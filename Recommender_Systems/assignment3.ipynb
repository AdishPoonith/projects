{
 "cells": [
  {
   "cell_type": "markdown",
   "metadata": {
    "id": "u-EEv9utoT69"
   },
   "source": [
    "# Assignment 3 by: Devanshu Poonith (s3970304)\n"
   ]
  },
  {
   "cell_type": "markdown",
   "metadata": {
    "id": "u-EEv9utoT69"
   },
   "source": [
    "# Task 1: User-based Collaborative Filtering\n"
   ]
  },
  {
   "cell_type": "markdown",
   "metadata": {},
   "source": [
    "### KNNCF"
   ]
  },
  {
   "cell_type": "code",
   "execution_count": 1,
   "metadata": {
    "id": "Qykq4YuQtZUS"
   },
   "outputs": [],
   "source": [
    "# Importing relevant libraries for usage\n",
    "import numpy as np \n",
    "import pandas as pd\n",
    "from sklearn.metrics import mean_squared_error\n",
    "from math import sqrt\n",
    "from sklearn.neighbors import NearestNeighbors\n",
    "import os\n",
    "from sklearn.model_selection import train_test_split"
   ]
  },
  {
   "cell_type": "code",
   "execution_count": 2,
   "metadata": {},
   "outputs": [],
   "source": [
    "# Going to the ml-1m directory or folder\n",
    "os.chdir('ml-1m/')\n"
   ]
  },
  {
   "cell_type": "code",
   "execution_count": 3,
   "metadata": {},
   "outputs": [
    {
     "name": "stdout",
     "output_type": "stream",
     "text": [
      "README.txt  movies.dat  ratings.dat users.dat\r\n"
     ]
    }
   ],
   "source": [
    "# listing all the files present in the ml-1m folder\n",
    "!ls"
   ]
  },
  {
   "cell_type": "code",
   "execution_count": 4,
   "metadata": {},
   "outputs": [
    {
     "name": "stdout",
     "output_type": "stream",
     "text": [
      "1::Toy Story (1995)::Animation|Children's|Comedy\r\n",
      "2::Jumanji (1995)::Adventure|Children's|Fantasy\r\n",
      "3::Grumpier Old Men (1995)::Comedy|Romance\r\n",
      "4::Waiting to Exhale (1995)::Comedy|Drama\r\n",
      "5::Father of the Bride Part II (1995)::Comedy\r\n",
      "6::Heat (1995)::Action|Crime|Thriller\r\n",
      "7::Sabrina (1995)::Comedy|Romance\r\n",
      "8::Tom and Huck (1995)::Adventure|Children's\r\n",
      "9::Sudden Death (1995)::Action\r\n",
      "10::GoldenEye (1995)::Action|Adventure|Thriller\r\n"
     ]
    }
   ],
   "source": [
    "# Viewing the first 10 movies in the movies.data file\n",
    "!head movies.dat"
   ]
  },
  {
   "cell_type": "code",
   "execution_count": 5,
   "metadata": {},
   "outputs": [
    {
     "name": "stdout",
     "output_type": "stream",
     "text": [
      "1::1193::5::978300760\r\n",
      "1::661::3::978302109\r\n",
      "1::914::3::978301968\r\n",
      "1::3408::4::978300275\r\n",
      "1::2355::5::978824291\r\n",
      "1::1197::3::978302268\r\n",
      "1::1287::5::978302039\r\n",
      "1::2804::5::978300719\r\n",
      "1::594::4::978302268\r\n",
      "1::919::4::978301368\r\n"
     ]
    }
   ],
   "source": [
    "# Viewing the first 10 items in the ratings data\n",
    "\n",
    "!head ratings.dat"
   ]
  },
  {
   "cell_type": "code",
   "execution_count": 6,
   "metadata": {},
   "outputs": [
    {
     "name": "stdout",
     "output_type": "stream",
     "text": [
      "1::F::1::10::48067\r\n",
      "2::M::56::16::70072\r\n",
      "3::M::25::15::55117\r\n",
      "4::M::45::7::02460\r\n",
      "5::M::25::20::55455\r\n",
      "6::F::50::9::55117\r\n",
      "7::M::35::1::06810\r\n",
      "8::M::25::12::11413\r\n",
      "9::M::25::17::61614\r\n",
      "10::F::35::1::95370\r\n"
     ]
    }
   ],
   "source": [
    "# Viewing the first 10 items in the users data\n",
    "!head users.dat"
   ]
  },
  {
   "cell_type": "code",
   "execution_count": 7,
   "metadata": {},
   "outputs": [
    {
     "data": {
      "text/html": [
       "<div>\n",
       "<style scoped>\n",
       "    .dataframe tbody tr th:only-of-type {\n",
       "        vertical-align: middle;\n",
       "    }\n",
       "\n",
       "    .dataframe tbody tr th {\n",
       "        vertical-align: top;\n",
       "    }\n",
       "\n",
       "    .dataframe thead th {\n",
       "        text-align: right;\n",
       "    }\n",
       "</style>\n",
       "<table border=\"1\" class=\"dataframe\">\n",
       "  <thead>\n",
       "    <tr style=\"text-align: right;\">\n",
       "      <th></th>\n",
       "      <th>UserID</th>\n",
       "      <th>MovieID</th>\n",
       "      <th>Rating</th>\n",
       "      <th>Timestamp</th>\n",
       "    </tr>\n",
       "  </thead>\n",
       "  <tbody>\n",
       "    <tr>\n",
       "      <th>0</th>\n",
       "      <td>1</td>\n",
       "      <td>1193</td>\n",
       "      <td>5</td>\n",
       "      <td>978300760</td>\n",
       "    </tr>\n",
       "    <tr>\n",
       "      <th>1</th>\n",
       "      <td>1</td>\n",
       "      <td>661</td>\n",
       "      <td>3</td>\n",
       "      <td>978302109</td>\n",
       "    </tr>\n",
       "    <tr>\n",
       "      <th>2</th>\n",
       "      <td>1</td>\n",
       "      <td>914</td>\n",
       "      <td>3</td>\n",
       "      <td>978301968</td>\n",
       "    </tr>\n",
       "    <tr>\n",
       "      <th>3</th>\n",
       "      <td>1</td>\n",
       "      <td>3408</td>\n",
       "      <td>4</td>\n",
       "      <td>978300275</td>\n",
       "    </tr>\n",
       "    <tr>\n",
       "      <th>4</th>\n",
       "      <td>1</td>\n",
       "      <td>2355</td>\n",
       "      <td>5</td>\n",
       "      <td>978824291</td>\n",
       "    </tr>\n",
       "    <tr>\n",
       "      <th>5</th>\n",
       "      <td>1</td>\n",
       "      <td>1197</td>\n",
       "      <td>3</td>\n",
       "      <td>978302268</td>\n",
       "    </tr>\n",
       "    <tr>\n",
       "      <th>6</th>\n",
       "      <td>1</td>\n",
       "      <td>1287</td>\n",
       "      <td>5</td>\n",
       "      <td>978302039</td>\n",
       "    </tr>\n",
       "    <tr>\n",
       "      <th>7</th>\n",
       "      <td>1</td>\n",
       "      <td>2804</td>\n",
       "      <td>5</td>\n",
       "      <td>978300719</td>\n",
       "    </tr>\n",
       "    <tr>\n",
       "      <th>8</th>\n",
       "      <td>1</td>\n",
       "      <td>594</td>\n",
       "      <td>4</td>\n",
       "      <td>978302268</td>\n",
       "    </tr>\n",
       "    <tr>\n",
       "      <th>9</th>\n",
       "      <td>1</td>\n",
       "      <td>919</td>\n",
       "      <td>4</td>\n",
       "      <td>978301368</td>\n",
       "    </tr>\n",
       "    <tr>\n",
       "      <th>10</th>\n",
       "      <td>1</td>\n",
       "      <td>595</td>\n",
       "      <td>5</td>\n",
       "      <td>978824268</td>\n",
       "    </tr>\n",
       "    <tr>\n",
       "      <th>11</th>\n",
       "      <td>1</td>\n",
       "      <td>938</td>\n",
       "      <td>4</td>\n",
       "      <td>978301752</td>\n",
       "    </tr>\n",
       "    <tr>\n",
       "      <th>12</th>\n",
       "      <td>1</td>\n",
       "      <td>2398</td>\n",
       "      <td>4</td>\n",
       "      <td>978302281</td>\n",
       "    </tr>\n",
       "    <tr>\n",
       "      <th>13</th>\n",
       "      <td>1</td>\n",
       "      <td>2918</td>\n",
       "      <td>4</td>\n",
       "      <td>978302124</td>\n",
       "    </tr>\n",
       "    <tr>\n",
       "      <th>14</th>\n",
       "      <td>1</td>\n",
       "      <td>1035</td>\n",
       "      <td>5</td>\n",
       "      <td>978301753</td>\n",
       "    </tr>\n",
       "    <tr>\n",
       "      <th>15</th>\n",
       "      <td>1</td>\n",
       "      <td>2791</td>\n",
       "      <td>4</td>\n",
       "      <td>978302188</td>\n",
       "    </tr>\n",
       "    <tr>\n",
       "      <th>16</th>\n",
       "      <td>1</td>\n",
       "      <td>2687</td>\n",
       "      <td>3</td>\n",
       "      <td>978824268</td>\n",
       "    </tr>\n",
       "    <tr>\n",
       "      <th>17</th>\n",
       "      <td>1</td>\n",
       "      <td>2018</td>\n",
       "      <td>4</td>\n",
       "      <td>978301777</td>\n",
       "    </tr>\n",
       "    <tr>\n",
       "      <th>18</th>\n",
       "      <td>1</td>\n",
       "      <td>3105</td>\n",
       "      <td>5</td>\n",
       "      <td>978301713</td>\n",
       "    </tr>\n",
       "    <tr>\n",
       "      <th>19</th>\n",
       "      <td>1</td>\n",
       "      <td>2797</td>\n",
       "      <td>4</td>\n",
       "      <td>978302039</td>\n",
       "    </tr>\n",
       "  </tbody>\n",
       "</table>\n",
       "</div>"
      ],
      "text/plain": [
       "    UserID  MovieID  Rating  Timestamp\n",
       "0        1     1193       5  978300760\n",
       "1        1      661       3  978302109\n",
       "2        1      914       3  978301968\n",
       "3        1     3408       4  978300275\n",
       "4        1     2355       5  978824291\n",
       "5        1     1197       3  978302268\n",
       "6        1     1287       5  978302039\n",
       "7        1     2804       5  978300719\n",
       "8        1      594       4  978302268\n",
       "9        1      919       4  978301368\n",
       "10       1      595       5  978824268\n",
       "11       1      938       4  978301752\n",
       "12       1     2398       4  978302281\n",
       "13       1     2918       4  978302124\n",
       "14       1     1035       5  978301753\n",
       "15       1     2791       4  978302188\n",
       "16       1     2687       3  978824268\n",
       "17       1     2018       4  978301777\n",
       "18       1     3105       5  978301713\n",
       "19       1     2797       4  978302039"
      ]
     },
     "execution_count": 7,
     "metadata": {},
     "output_type": "execute_result"
    }
   ],
   "source": [
    "names = ['UserID','MovieID','Rating','Timestamp'] # giving the names of the columns\n",
    "df = pd.read_csv('ratings.dat',sep='::',names=names,engine='python') # reading the ratings data into a dataframe\n",
    "df.head(20) # listing the first 5 rows of the data rating "
   ]
  },
  {
   "cell_type": "code",
   "execution_count": 8,
   "metadata": {},
   "outputs": [
    {
     "data": {
      "text/plain": [
       "(1000209, 4)"
      ]
     },
     "execution_count": 8,
     "metadata": {},
     "output_type": "execute_result"
    }
   ],
   "source": [
    "df.shape"
   ]
  },
  {
   "cell_type": "code",
   "execution_count": 9,
   "metadata": {},
   "outputs": [
    {
     "data": {
      "text/plain": [
       "(1000209, 4)"
      ]
     },
     "execution_count": 9,
     "metadata": {},
     "output_type": "execute_result"
    }
   ],
   "source": [
    "df = df[df['Rating'] > 0]# selecting users that has more than 0 rating on the movies\n",
    "df.shape"
   ]
  },
  {
   "cell_type": "code",
   "execution_count": 10,
   "metadata": {},
   "outputs": [
    {
     "name": "stdout",
     "output_type": "stream",
     "text": [
      "1::Toy Story (1995)::Animation|Children's|Comedy\r\n",
      "2::Jumanji (1995)::Adventure|Children's|Fantasy\r\n",
      "3::Grumpier Old Men (1995)::Comedy|Romance\r\n",
      "4::Waiting to Exhale (1995)::Comedy|Drama\r\n",
      "5::Father of the Bride Part II (1995)::Comedy\r\n",
      "6::Heat (1995)::Action|Crime|Thriller\r\n",
      "7::Sabrina (1995)::Comedy|Romance\r\n",
      "8::Tom and Huck (1995)::Adventure|Children's\r\n",
      "9::Sudden Death (1995)::Action\r\n",
      "10::GoldenEye (1995)::Action|Adventure|Thriller\r\n"
     ]
    }
   ],
   "source": [
    "!head movies.dat"
   ]
  },
  {
   "cell_type": "code",
   "execution_count": 11,
   "metadata": {},
   "outputs": [
    {
     "data": {
      "text/html": [
       "<div>\n",
       "<style scoped>\n",
       "    .dataframe tbody tr th:only-of-type {\n",
       "        vertical-align: middle;\n",
       "    }\n",
       "\n",
       "    .dataframe tbody tr th {\n",
       "        vertical-align: top;\n",
       "    }\n",
       "\n",
       "    .dataframe thead th {\n",
       "        text-align: right;\n",
       "    }\n",
       "</style>\n",
       "<table border=\"1\" class=\"dataframe\">\n",
       "  <thead>\n",
       "    <tr style=\"text-align: right;\">\n",
       "      <th></th>\n",
       "      <th>MovieID</th>\n",
       "      <th>MovieTitle</th>\n",
       "      <th>MovieGenre</th>\n",
       "    </tr>\n",
       "  </thead>\n",
       "  <tbody>\n",
       "    <tr>\n",
       "      <th>0</th>\n",
       "      <td>1</td>\n",
       "      <td>Toy Story (1995)</td>\n",
       "      <td>Animation|Children's|Comedy</td>\n",
       "    </tr>\n",
       "    <tr>\n",
       "      <th>1</th>\n",
       "      <td>2</td>\n",
       "      <td>Jumanji (1995)</td>\n",
       "      <td>Adventure|Children's|Fantasy</td>\n",
       "    </tr>\n",
       "    <tr>\n",
       "      <th>2</th>\n",
       "      <td>3</td>\n",
       "      <td>Grumpier Old Men (1995)</td>\n",
       "      <td>Comedy|Romance</td>\n",
       "    </tr>\n",
       "    <tr>\n",
       "      <th>3</th>\n",
       "      <td>4</td>\n",
       "      <td>Waiting to Exhale (1995)</td>\n",
       "      <td>Comedy|Drama</td>\n",
       "    </tr>\n",
       "    <tr>\n",
       "      <th>4</th>\n",
       "      <td>5</td>\n",
       "      <td>Father of the Bride Part II (1995)</td>\n",
       "      <td>Comedy</td>\n",
       "    </tr>\n",
       "  </tbody>\n",
       "</table>\n",
       "</div>"
      ],
      "text/plain": [
       "   MovieID                          MovieTitle                    MovieGenre\n",
       "0        1                    Toy Story (1995)   Animation|Children's|Comedy\n",
       "1        2                      Jumanji (1995)  Adventure|Children's|Fantasy\n",
       "2        3             Grumpier Old Men (1995)                Comedy|Romance\n",
       "3        4            Waiting to Exhale (1995)                  Comedy|Drama\n",
       "4        5  Father of the Bride Part II (1995)                        Comedy"
      ]
     },
     "execution_count": 11,
     "metadata": {},
     "output_type": "execute_result"
    }
   ],
   "source": [
    "# Reading the movie.dat file\n",
    "df_1 = pd.read_csv('movies.dat', sep ='::',names = ['MovieID','MovieTitle','MovieGenre'],encoding = 'latin-1',engine= 'python')\n",
    "df_1.head()"
   ]
  },
  {
   "cell_type": "code",
   "execution_count": 12,
   "metadata": {},
   "outputs": [
    {
     "data": {
      "text/html": [
       "<div>\n",
       "<style scoped>\n",
       "    .dataframe tbody tr th:only-of-type {\n",
       "        vertical-align: middle;\n",
       "    }\n",
       "\n",
       "    .dataframe tbody tr th {\n",
       "        vertical-align: top;\n",
       "    }\n",
       "\n",
       "    .dataframe thead th {\n",
       "        text-align: right;\n",
       "    }\n",
       "</style>\n",
       "<table border=\"1\" class=\"dataframe\">\n",
       "  <thead>\n",
       "    <tr style=\"text-align: right;\">\n",
       "      <th></th>\n",
       "      <th>UserID</th>\n",
       "      <th>MovieID</th>\n",
       "      <th>Rating</th>\n",
       "      <th>Timestamp</th>\n",
       "      <th>MovieTitle</th>\n",
       "      <th>MovieGenre</th>\n",
       "    </tr>\n",
       "  </thead>\n",
       "  <tbody>\n",
       "    <tr>\n",
       "      <th>0</th>\n",
       "      <td>1</td>\n",
       "      <td>1193</td>\n",
       "      <td>5</td>\n",
       "      <td>978300760</td>\n",
       "      <td>One Flew Over the Cuckoo's Nest (1975)</td>\n",
       "      <td>Drama</td>\n",
       "    </tr>\n",
       "    <tr>\n",
       "      <th>1</th>\n",
       "      <td>2</td>\n",
       "      <td>1193</td>\n",
       "      <td>5</td>\n",
       "      <td>978298413</td>\n",
       "      <td>One Flew Over the Cuckoo's Nest (1975)</td>\n",
       "      <td>Drama</td>\n",
       "    </tr>\n",
       "    <tr>\n",
       "      <th>2</th>\n",
       "      <td>12</td>\n",
       "      <td>1193</td>\n",
       "      <td>4</td>\n",
       "      <td>978220179</td>\n",
       "      <td>One Flew Over the Cuckoo's Nest (1975)</td>\n",
       "      <td>Drama</td>\n",
       "    </tr>\n",
       "    <tr>\n",
       "      <th>3</th>\n",
       "      <td>15</td>\n",
       "      <td>1193</td>\n",
       "      <td>4</td>\n",
       "      <td>978199279</td>\n",
       "      <td>One Flew Over the Cuckoo's Nest (1975)</td>\n",
       "      <td>Drama</td>\n",
       "    </tr>\n",
       "    <tr>\n",
       "      <th>4</th>\n",
       "      <td>17</td>\n",
       "      <td>1193</td>\n",
       "      <td>5</td>\n",
       "      <td>978158471</td>\n",
       "      <td>One Flew Over the Cuckoo's Nest (1975)</td>\n",
       "      <td>Drama</td>\n",
       "    </tr>\n",
       "    <tr>\n",
       "      <th>...</th>\n",
       "      <td>...</td>\n",
       "      <td>...</td>\n",
       "      <td>...</td>\n",
       "      <td>...</td>\n",
       "      <td>...</td>\n",
       "      <td>...</td>\n",
       "    </tr>\n",
       "    <tr>\n",
       "      <th>1000204</th>\n",
       "      <td>5949</td>\n",
       "      <td>2198</td>\n",
       "      <td>5</td>\n",
       "      <td>958846401</td>\n",
       "      <td>Modulations (1998)</td>\n",
       "      <td>Documentary</td>\n",
       "    </tr>\n",
       "    <tr>\n",
       "      <th>1000205</th>\n",
       "      <td>5675</td>\n",
       "      <td>2703</td>\n",
       "      <td>3</td>\n",
       "      <td>976029116</td>\n",
       "      <td>Broken Vessels (1998)</td>\n",
       "      <td>Drama</td>\n",
       "    </tr>\n",
       "    <tr>\n",
       "      <th>1000206</th>\n",
       "      <td>5780</td>\n",
       "      <td>2845</td>\n",
       "      <td>1</td>\n",
       "      <td>958153068</td>\n",
       "      <td>White Boys (1999)</td>\n",
       "      <td>Drama</td>\n",
       "    </tr>\n",
       "    <tr>\n",
       "      <th>1000207</th>\n",
       "      <td>5851</td>\n",
       "      <td>3607</td>\n",
       "      <td>5</td>\n",
       "      <td>957756608</td>\n",
       "      <td>One Little Indian (1973)</td>\n",
       "      <td>Comedy|Drama|Western</td>\n",
       "    </tr>\n",
       "    <tr>\n",
       "      <th>1000208</th>\n",
       "      <td>5938</td>\n",
       "      <td>2909</td>\n",
       "      <td>4</td>\n",
       "      <td>957273353</td>\n",
       "      <td>Five Wives, Three Secretaries and Me (1998)</td>\n",
       "      <td>Documentary</td>\n",
       "    </tr>\n",
       "  </tbody>\n",
       "</table>\n",
       "<p>1000209 rows × 6 columns</p>\n",
       "</div>"
      ],
      "text/plain": [
       "         UserID  MovieID  Rating  Timestamp  \\\n",
       "0             1     1193       5  978300760   \n",
       "1             2     1193       5  978298413   \n",
       "2            12     1193       4  978220179   \n",
       "3            15     1193       4  978199279   \n",
       "4            17     1193       5  978158471   \n",
       "...         ...      ...     ...        ...   \n",
       "1000204    5949     2198       5  958846401   \n",
       "1000205    5675     2703       3  976029116   \n",
       "1000206    5780     2845       1  958153068   \n",
       "1000207    5851     3607       5  957756608   \n",
       "1000208    5938     2909       4  957273353   \n",
       "\n",
       "                                          MovieTitle            MovieGenre  \n",
       "0             One Flew Over the Cuckoo's Nest (1975)                 Drama  \n",
       "1             One Flew Over the Cuckoo's Nest (1975)                 Drama  \n",
       "2             One Flew Over the Cuckoo's Nest (1975)                 Drama  \n",
       "3             One Flew Over the Cuckoo's Nest (1975)                 Drama  \n",
       "4             One Flew Over the Cuckoo's Nest (1975)                 Drama  \n",
       "...                                              ...                   ...  \n",
       "1000204                           Modulations (1998)           Documentary  \n",
       "1000205                        Broken Vessels (1998)                 Drama  \n",
       "1000206                            White Boys (1999)                 Drama  \n",
       "1000207                     One Little Indian (1973)  Comedy|Drama|Western  \n",
       "1000208  Five Wives, Three Secretaries and Me (1998)           Documentary  \n",
       "\n",
       "[1000209 rows x 6 columns]"
      ]
     },
     "execution_count": 12,
     "metadata": {},
     "output_type": "execute_result"
    }
   ],
   "source": [
    "# Joining the tables on the 'MovieID' column\n",
    "merged_df = pd.merge(df, df_1, on='MovieID',how = 'inner')\n",
    "merged_df"
   ]
  },
  {
   "cell_type": "code",
   "execution_count": 13,
   "metadata": {},
   "outputs": [
    {
     "data": {
      "text/html": [
       "<div>\n",
       "<style scoped>\n",
       "    .dataframe tbody tr th:only-of-type {\n",
       "        vertical-align: middle;\n",
       "    }\n",
       "\n",
       "    .dataframe tbody tr th {\n",
       "        vertical-align: top;\n",
       "    }\n",
       "\n",
       "    .dataframe thead th {\n",
       "        text-align: right;\n",
       "    }\n",
       "</style>\n",
       "<table border=\"1\" class=\"dataframe\">\n",
       "  <thead>\n",
       "    <tr style=\"text-align: right;\">\n",
       "      <th></th>\n",
       "      <th>UserID</th>\n",
       "      <th>MovieID</th>\n",
       "      <th>Rating</th>\n",
       "      <th>Timestamp</th>\n",
       "      <th>MovieTitle</th>\n",
       "      <th>MovieGenre</th>\n",
       "    </tr>\n",
       "  </thead>\n",
       "  <tbody>\n",
       "    <tr>\n",
       "      <th>0</th>\n",
       "      <td>1</td>\n",
       "      <td>1193</td>\n",
       "      <td>5</td>\n",
       "      <td>978300760</td>\n",
       "      <td>One Flew Over the Cuckoo's Nest (1975)</td>\n",
       "      <td>Drama</td>\n",
       "    </tr>\n",
       "    <tr>\n",
       "      <th>1</th>\n",
       "      <td>2</td>\n",
       "      <td>1193</td>\n",
       "      <td>5</td>\n",
       "      <td>978298413</td>\n",
       "      <td>One Flew Over the Cuckoo's Nest (1975)</td>\n",
       "      <td>Drama</td>\n",
       "    </tr>\n",
       "    <tr>\n",
       "      <th>2</th>\n",
       "      <td>12</td>\n",
       "      <td>1193</td>\n",
       "      <td>4</td>\n",
       "      <td>978220179</td>\n",
       "      <td>One Flew Over the Cuckoo's Nest (1975)</td>\n",
       "      <td>Drama</td>\n",
       "    </tr>\n",
       "    <tr>\n",
       "      <th>3</th>\n",
       "      <td>15</td>\n",
       "      <td>1193</td>\n",
       "      <td>4</td>\n",
       "      <td>978199279</td>\n",
       "      <td>One Flew Over the Cuckoo's Nest (1975)</td>\n",
       "      <td>Drama</td>\n",
       "    </tr>\n",
       "    <tr>\n",
       "      <th>4</th>\n",
       "      <td>17</td>\n",
       "      <td>1193</td>\n",
       "      <td>5</td>\n",
       "      <td>978158471</td>\n",
       "      <td>One Flew Over the Cuckoo's Nest (1975)</td>\n",
       "      <td>Drama</td>\n",
       "    </tr>\n",
       "    <tr>\n",
       "      <th>...</th>\n",
       "      <td>...</td>\n",
       "      <td>...</td>\n",
       "      <td>...</td>\n",
       "      <td>...</td>\n",
       "      <td>...</td>\n",
       "      <td>...</td>\n",
       "    </tr>\n",
       "    <tr>\n",
       "      <th>991639</th>\n",
       "      <td>5841</td>\n",
       "      <td>3445</td>\n",
       "      <td>3</td>\n",
       "      <td>961508809</td>\n",
       "      <td>Eyes of Laura Mars (1978)</td>\n",
       "      <td>Mystery|Thriller</td>\n",
       "    </tr>\n",
       "    <tr>\n",
       "      <th>991640</th>\n",
       "      <td>5852</td>\n",
       "      <td>3445</td>\n",
       "      <td>2</td>\n",
       "      <td>958103360</td>\n",
       "      <td>Eyes of Laura Mars (1978)</td>\n",
       "      <td>Mystery|Thriller</td>\n",
       "    </tr>\n",
       "    <tr>\n",
       "      <th>991641</th>\n",
       "      <td>5916</td>\n",
       "      <td>3445</td>\n",
       "      <td>3</td>\n",
       "      <td>957461368</td>\n",
       "      <td>Eyes of Laura Mars (1978)</td>\n",
       "      <td>Mystery|Thriller</td>\n",
       "    </tr>\n",
       "    <tr>\n",
       "      <th>991642</th>\n",
       "      <td>5954</td>\n",
       "      <td>3445</td>\n",
       "      <td>3</td>\n",
       "      <td>957706442</td>\n",
       "      <td>Eyes of Laura Mars (1978)</td>\n",
       "      <td>Mystery|Thriller</td>\n",
       "    </tr>\n",
       "    <tr>\n",
       "      <th>991643</th>\n",
       "      <td>6002</td>\n",
       "      <td>3445</td>\n",
       "      <td>3</td>\n",
       "      <td>1014524634</td>\n",
       "      <td>Eyes of Laura Mars (1978)</td>\n",
       "      <td>Mystery|Thriller</td>\n",
       "    </tr>\n",
       "  </tbody>\n",
       "</table>\n",
       "<p>940925 rows × 6 columns</p>\n",
       "</div>"
      ],
      "text/plain": [
       "        UserID  MovieID  Rating   Timestamp  \\\n",
       "0            1     1193       5   978300760   \n",
       "1            2     1193       5   978298413   \n",
       "2           12     1193       4   978220179   \n",
       "3           15     1193       4   978199279   \n",
       "4           17     1193       5   978158471   \n",
       "...        ...      ...     ...         ...   \n",
       "991639    5841     3445       3   961508809   \n",
       "991640    5852     3445       2   958103360   \n",
       "991641    5916     3445       3   957461368   \n",
       "991642    5954     3445       3   957706442   \n",
       "991643    6002     3445       3  1014524634   \n",
       "\n",
       "                                    MovieTitle        MovieGenre  \n",
       "0       One Flew Over the Cuckoo's Nest (1975)             Drama  \n",
       "1       One Flew Over the Cuckoo's Nest (1975)             Drama  \n",
       "2       One Flew Over the Cuckoo's Nest (1975)             Drama  \n",
       "3       One Flew Over the Cuckoo's Nest (1975)             Drama  \n",
       "4       One Flew Over the Cuckoo's Nest (1975)             Drama  \n",
       "...                                        ...               ...  \n",
       "991639               Eyes of Laura Mars (1978)  Mystery|Thriller  \n",
       "991640               Eyes of Laura Mars (1978)  Mystery|Thriller  \n",
       "991641               Eyes of Laura Mars (1978)  Mystery|Thriller  \n",
       "991642               Eyes of Laura Mars (1978)  Mystery|Thriller  \n",
       "991643               Eyes of Laura Mars (1978)  Mystery|Thriller  \n",
       "\n",
       "[940925 rows x 6 columns]"
      ]
     },
     "execution_count": 13,
     "metadata": {},
     "output_type": "execute_result"
    }
   ],
   "source": [
    "\n",
    "# Create a group by object based on 'MovieTitle'\n",
    "grouped = merged_df.groupby('MovieTitle')\n",
    "\n",
    "# Count the number of ratings for each movie and filter movies that have more than 30 ratings\n",
    "movie_rating_count = grouped['Rating'].count()\n",
    "popular_movies = movie_rating_count[movie_rating_count > 100].index.tolist()\n",
    "\n",
    "# Filter the DataFrame to include only those popular movies\n",
    "df = merged_df[merged_df['MovieTitle'].isin(popular_movies)]\n",
    "df"
   ]
  },
  {
   "cell_type": "code",
   "execution_count": 14,
   "metadata": {},
   "outputs": [
    {
     "data": {
      "text/html": [
       "<div>\n",
       "<style scoped>\n",
       "    .dataframe tbody tr th:only-of-type {\n",
       "        vertical-align: middle;\n",
       "    }\n",
       "\n",
       "    .dataframe tbody tr th {\n",
       "        vertical-align: top;\n",
       "    }\n",
       "\n",
       "    .dataframe thead th {\n",
       "        text-align: right;\n",
       "    }\n",
       "</style>\n",
       "<table border=\"1\" class=\"dataframe\">\n",
       "  <thead>\n",
       "    <tr style=\"text-align: right;\">\n",
       "      <th></th>\n",
       "      <th>MovieID</th>\n",
       "      <th>MovieTitle</th>\n",
       "      <th>Action</th>\n",
       "      <th>Adventure</th>\n",
       "      <th>Animation</th>\n",
       "      <th>Children's</th>\n",
       "      <th>Comedy</th>\n",
       "      <th>Crime</th>\n",
       "      <th>Documentary</th>\n",
       "      <th>Drama</th>\n",
       "      <th>Fantasy</th>\n",
       "      <th>Film-Noir</th>\n",
       "      <th>Horror</th>\n",
       "      <th>Musical</th>\n",
       "      <th>Mystery</th>\n",
       "      <th>Romance</th>\n",
       "      <th>Sci-Fi</th>\n",
       "      <th>Thriller</th>\n",
       "      <th>War</th>\n",
       "      <th>Western</th>\n",
       "    </tr>\n",
       "  </thead>\n",
       "  <tbody>\n",
       "    <tr>\n",
       "      <th>0</th>\n",
       "      <td>1</td>\n",
       "      <td>Toy Story (1995)</td>\n",
       "      <td>0</td>\n",
       "      <td>0</td>\n",
       "      <td>1</td>\n",
       "      <td>1</td>\n",
       "      <td>1</td>\n",
       "      <td>0</td>\n",
       "      <td>0</td>\n",
       "      <td>0</td>\n",
       "      <td>0</td>\n",
       "      <td>0</td>\n",
       "      <td>0</td>\n",
       "      <td>0</td>\n",
       "      <td>0</td>\n",
       "      <td>0</td>\n",
       "      <td>0</td>\n",
       "      <td>0</td>\n",
       "      <td>0</td>\n",
       "      <td>0</td>\n",
       "    </tr>\n",
       "    <tr>\n",
       "      <th>1</th>\n",
       "      <td>2</td>\n",
       "      <td>Jumanji (1995)</td>\n",
       "      <td>0</td>\n",
       "      <td>1</td>\n",
       "      <td>0</td>\n",
       "      <td>1</td>\n",
       "      <td>0</td>\n",
       "      <td>0</td>\n",
       "      <td>0</td>\n",
       "      <td>0</td>\n",
       "      <td>1</td>\n",
       "      <td>0</td>\n",
       "      <td>0</td>\n",
       "      <td>0</td>\n",
       "      <td>0</td>\n",
       "      <td>0</td>\n",
       "      <td>0</td>\n",
       "      <td>0</td>\n",
       "      <td>0</td>\n",
       "      <td>0</td>\n",
       "    </tr>\n",
       "    <tr>\n",
       "      <th>2</th>\n",
       "      <td>3</td>\n",
       "      <td>Grumpier Old Men (1995)</td>\n",
       "      <td>0</td>\n",
       "      <td>0</td>\n",
       "      <td>0</td>\n",
       "      <td>0</td>\n",
       "      <td>1</td>\n",
       "      <td>0</td>\n",
       "      <td>0</td>\n",
       "      <td>0</td>\n",
       "      <td>0</td>\n",
       "      <td>0</td>\n",
       "      <td>0</td>\n",
       "      <td>0</td>\n",
       "      <td>0</td>\n",
       "      <td>1</td>\n",
       "      <td>0</td>\n",
       "      <td>0</td>\n",
       "      <td>0</td>\n",
       "      <td>0</td>\n",
       "    </tr>\n",
       "    <tr>\n",
       "      <th>3</th>\n",
       "      <td>4</td>\n",
       "      <td>Waiting to Exhale (1995)</td>\n",
       "      <td>0</td>\n",
       "      <td>0</td>\n",
       "      <td>0</td>\n",
       "      <td>0</td>\n",
       "      <td>1</td>\n",
       "      <td>0</td>\n",
       "      <td>0</td>\n",
       "      <td>1</td>\n",
       "      <td>0</td>\n",
       "      <td>0</td>\n",
       "      <td>0</td>\n",
       "      <td>0</td>\n",
       "      <td>0</td>\n",
       "      <td>0</td>\n",
       "      <td>0</td>\n",
       "      <td>0</td>\n",
       "      <td>0</td>\n",
       "      <td>0</td>\n",
       "    </tr>\n",
       "    <tr>\n",
       "      <th>4</th>\n",
       "      <td>5</td>\n",
       "      <td>Father of the Bride Part II (1995)</td>\n",
       "      <td>0</td>\n",
       "      <td>0</td>\n",
       "      <td>0</td>\n",
       "      <td>0</td>\n",
       "      <td>1</td>\n",
       "      <td>0</td>\n",
       "      <td>0</td>\n",
       "      <td>0</td>\n",
       "      <td>0</td>\n",
       "      <td>0</td>\n",
       "      <td>0</td>\n",
       "      <td>0</td>\n",
       "      <td>0</td>\n",
       "      <td>0</td>\n",
       "      <td>0</td>\n",
       "      <td>0</td>\n",
       "      <td>0</td>\n",
       "      <td>0</td>\n",
       "    </tr>\n",
       "  </tbody>\n",
       "</table>\n",
       "</div>"
      ],
      "text/plain": [
       "   MovieID                          MovieTitle  Action  Adventure  Animation  \\\n",
       "0        1                    Toy Story (1995)       0          0          1   \n",
       "1        2                      Jumanji (1995)       0          1          0   \n",
       "2        3             Grumpier Old Men (1995)       0          0          0   \n",
       "3        4            Waiting to Exhale (1995)       0          0          0   \n",
       "4        5  Father of the Bride Part II (1995)       0          0          0   \n",
       "\n",
       "   Children's  Comedy  Crime  Documentary  Drama  Fantasy  Film-Noir  Horror  \\\n",
       "0           1       1      0            0      0        0          0       0   \n",
       "1           1       0      0            0      0        1          0       0   \n",
       "2           0       1      0            0      0        0          0       0   \n",
       "3           0       1      0            0      1        0          0       0   \n",
       "4           0       1      0            0      0        0          0       0   \n",
       "\n",
       "   Musical  Mystery  Romance  Sci-Fi  Thriller  War  Western  \n",
       "0        0        0        0       0         0    0        0  \n",
       "1        0        0        0       0         0    0        0  \n",
       "2        0        0        1       0         0    0        0  \n",
       "3        0        0        0       0         0    0        0  \n",
       "4        0        0        0       0         0    0        0  "
      ]
     },
     "execution_count": 14,
     "metadata": {},
     "output_type": "execute_result"
    }
   ],
   "source": [
    "genre_df = df_1['MovieGenre'].str.get_dummies(sep='|')\n",
    "\n",
    "# Concatenating the original DataFrame with the new genre DataFrame\n",
    "final_df = pd.concat([df_1, genre_df], axis=1)\n",
    "\n",
    "# Dropping the MovieGenre column\n",
    "final_df.drop('MovieGenre', axis=1, inplace=True)\n",
    "\n",
    "final_df.head()"
   ]
  },
  {
   "cell_type": "code",
   "execution_count": 15,
   "metadata": {},
   "outputs": [
    {
     "name": "stdout",
     "output_type": "stream",
     "text": [
      "6040 users\n",
      "2006 movies\n"
     ]
    }
   ],
   "source": [
    "# Checking the size of the data\n",
    "n_users = df.UserID.unique().shape[0]\n",
    "n_movies = df.MovieID.unique().shape[0]\n",
    "print (str(n_users) + ' users')\n",
    "print (str(n_movies) + ' movies')"
   ]
  },
  {
   "cell_type": "code",
   "execution_count": 20,
   "metadata": {},
   "outputs": [],
   "source": [
    "# Factorizing UserID and MovieID\n",
    "# Factorizing UserID and MovieID using .loc\n",
    "df.loc[:, 'UserID'] = pd.factorize(df['UserID'])[0]\n",
    "df.loc[:, 'MovieID'] = pd.factorize(df['MovieID'])[0]\n"
   ]
  },
  {
   "cell_type": "code",
   "execution_count": 21,
   "metadata": {},
   "outputs": [
    {
     "data": {
      "text/plain": [
       "(        UserID  MovieID  Rating  Timestamp  \\\n",
       " 101749    1389       95       2  962642543   \n",
       " 552467    1849      726       3  975872721   \n",
       " 247571      33      242       4  977529882   \n",
       " 596659    4249      812       4  958180253   \n",
       " 758670    1217     1194       3  966355716   \n",
       " ...        ...      ...     ...        ...   \n",
       " 768007    1510     1221       4  960520162   \n",
       " 948919     617     1886       3  974496809   \n",
       " 484518    5136      619       4  974424140   \n",
       " 346351    3020      395       3  977372387   \n",
       " 475010    1038      602       4  966133069   \n",
       " \n",
       "                                         MovieTitle  \\\n",
       " 101749   Close Encounters of the Third Kind (1977)   \n",
       " 552467                           Waterworld (1995)   \n",
       " 247571                       One False Move (1991)   \n",
       " 596659                         Arrival, The (1996)   \n",
       " 758670                       Risky Business (1983)   \n",
       " ...                                            ...   \n",
       " 768007                          French Kiss (1995)   \n",
       " 948919                Village of the Damned (1995)   \n",
       " 484518                2001: A Space Odyssey (1968)   \n",
       " 346351                               Grease (1978)   \n",
       " 475010  Star Trek III: The Search for Spock (1984)   \n",
       " \n",
       "                            MovieGenre  \n",
       " 101749                   Drama|Sci-Fi  \n",
       " 552467               Action|Adventure  \n",
       " 247571                       Thriller  \n",
       " 596659         Action|Sci-Fi|Thriller  \n",
       " 758670                         Comedy  \n",
       " ...                               ...  \n",
       " 768007                 Comedy|Romance  \n",
       " 948919                  Horror|Sci-Fi  \n",
       " 484518  Drama|Mystery|Sci-Fi|Thriller  \n",
       " 346351         Comedy|Musical|Romance  \n",
       " 475010        Action|Adventure|Sci-Fi  \n",
       " \n",
       " [28227 rows x 6 columns],\n",
       "         UserID  MovieID  Rating  Timestamp  \\\n",
       " 554989    4048      734       3  965580957   \n",
       " 659645     495      957       4  974901639   \n",
       " 23743     2099       22       4  974847926   \n",
       " 486543     738      621       4  973244096   \n",
       " 72180     2726       63       5  969413063   \n",
       " ...        ...      ...     ...        ...   \n",
       " 136632    3159      125       5  974707584   \n",
       " 473953    5187      601       5  967225813   \n",
       " 566481     695      752       3  973930988   \n",
       " 699151    5382     1049       3  964559365   \n",
       " 442755    4097      549       4  965059977   \n",
       " \n",
       "                                                MovieTitle  \\\n",
       " 554989                               Billy Madison (1995)   \n",
       " 659645                                  Highlander (1986)   \n",
       " 23743                           Back to the Future (1985)   \n",
       " 486543         Mad Max 2 (a.k.a. The Road Warrior) (1981)   \n",
       " 72180   Star Wars: Episode VI - Return of the Jedi (1983)   \n",
       " ...                                                   ...   \n",
       " 136632                   Silence of the Lambs, The (1991)   \n",
       " 473953                Star Trek: The Wrath of Khan (1982)   \n",
       " 566481                        Nutty Professor, The (1996)   \n",
       " 699151                    World Is Not Enough, The (1999)   \n",
       " 442755                           Dark Crystal, The (1982)   \n",
       " \n",
       "                                  MovieGenre  \n",
       " 554989                               Comedy  \n",
       " 659645                     Action|Adventure  \n",
       " 23743                         Comedy|Sci-Fi  \n",
       " 486543                        Action|Sci-Fi  \n",
       " 72180   Action|Adventure|Romance|Sci-Fi|War  \n",
       " ...                                     ...  \n",
       " 136632                       Drama|Thriller  \n",
       " 473953              Action|Adventure|Sci-Fi  \n",
       " 566481        Comedy|Fantasy|Romance|Sci-Fi  \n",
       " 699151                      Action|Thriller  \n",
       " 442755            Children's|Fantasy|Sci-Fi  \n",
       " \n",
       " [912698 rows x 6 columns])"
      ]
     },
     "execution_count": 21,
     "metadata": {},
     "output_type": "execute_result"
    }
   ],
   "source": [
    "# Splitting dataset into training and testing\n",
    "train_df, test_df = train_test_split(df, test_size=0.97)\n",
    "train_df, test_df"
   ]
  },
  {
   "cell_type": "code",
   "execution_count": 22,
   "metadata": {},
   "outputs": [
    {
     "data": {
      "text/plain": [
       "(      0     1     2     3     4     5     6     7     8     9     ...  1996  \\\n",
       " 0      0.0   0.0   0.0   0.0   0.0   0.0   0.0   0.0   0.0   0.0  ...   0.0   \n",
       " 1      0.0   0.0   0.0   0.0   0.0   0.0   0.0   0.0   0.0   0.0  ...   0.0   \n",
       " 2      0.0   0.0   0.0   0.0   0.0   0.0   0.0   0.0   0.0   0.0  ...   0.0   \n",
       " 3      0.0   0.0   0.0   0.0   0.0   0.0   0.0   0.0   0.0   0.0  ...   0.0   \n",
       " 4      0.0   0.0   0.0   0.0   0.0   0.0   0.0   0.0   0.0   0.0  ...   0.0   \n",
       " ...    ...   ...   ...   ...   ...   ...   ...   ...   ...   ...  ...   ...   \n",
       " 6035   0.0   0.0   0.0   0.0   0.0   0.0   0.0   0.0   0.0   0.0  ...   0.0   \n",
       " 6036   0.0   0.0   0.0   0.0   0.0   0.0   0.0   0.0   0.0   0.0  ...   0.0   \n",
       " 6037   0.0   0.0   0.0   0.0   0.0   0.0   0.0   0.0   0.0   0.0  ...   0.0   \n",
       " 6038   0.0   0.0   0.0   0.0   0.0   0.0   0.0   0.0   0.0   0.0  ...   0.0   \n",
       " 6039   0.0   0.0   0.0   0.0   0.0   0.0   5.0   0.0   0.0   0.0  ...   0.0   \n",
       " \n",
       "       1997  1998  1999  2000  2001  2002  2003  2004  2005  \n",
       " 0      0.0   0.0   0.0   0.0   0.0   0.0   0.0   0.0   0.0  \n",
       " 1      0.0   0.0   0.0   0.0   0.0   0.0   0.0   0.0   0.0  \n",
       " 2      0.0   0.0   0.0   0.0   0.0   0.0   0.0   0.0   0.0  \n",
       " 3      0.0   0.0   0.0   0.0   0.0   0.0   0.0   0.0   0.0  \n",
       " 4      0.0   0.0   0.0   0.0   0.0   0.0   0.0   0.0   0.0  \n",
       " ...    ...   ...   ...   ...   ...   ...   ...   ...   ...  \n",
       " 6035   0.0   0.0   0.0   0.0   0.0   0.0   0.0   0.0   0.0  \n",
       " 6036   0.0   0.0   0.0   0.0   0.0   0.0   0.0   0.0   0.0  \n",
       " 6037   0.0   0.0   0.0   0.0   0.0   0.0   0.0   0.0   0.0  \n",
       " 6038   0.0   0.0   0.0   0.0   0.0   0.0   0.0   0.0   0.0  \n",
       " 6039   0.0   0.0   0.0   0.0   0.0   0.0   0.0   0.0   0.0  \n",
       " \n",
       " [6040 rows x 2006 columns],\n",
       "       0     1     2     3     4     5     6     7     8     9     ...  1996  \\\n",
       " 0      0.0   0.0   0.0   0.0   0.0   0.0   0.0   0.0   0.0   0.0  ...   0.0   \n",
       " 1      0.0   0.0   0.0   0.0   0.0   0.0   5.0   0.0   5.0   0.0  ...   0.0   \n",
       " 2      0.0   0.0   4.0   0.0   0.0   0.0   0.0   0.0   0.0   0.0  ...   0.0   \n",
       " 3      0.0   0.0   0.0   4.0   0.0   0.0   0.0   0.0   0.0   5.0  ...   0.0   \n",
       " 4      0.0   0.0   0.0   5.0   5.0   0.0   0.0   5.0   5.0   5.0  ...   0.0   \n",
       " ...    ...   ...   ...   ...   ...   ...   ...   ...   ...   ...  ...   ...   \n",
       " 6035   0.0   0.0   0.0   0.0   0.0   0.0   0.0   0.0   0.0   0.0  ...   0.0   \n",
       " 6036   0.0   0.0   0.0   0.0   0.0   0.0   0.0   0.0   0.0   0.0  ...   0.0   \n",
       " 6037   0.0   0.0   0.0   0.0   0.0   0.0   0.0   0.0   0.0   0.0  ...   0.0   \n",
       " 6038   0.0   0.0   0.0   0.0   0.0   0.0   0.0   0.0   0.0   0.0  ...   0.0   \n",
       " 6039   3.0   3.0   4.0   5.0   3.0   5.0   0.0   4.0   4.0   5.0  ...   0.0   \n",
       " \n",
       "       1997  1998  1999  2000  2001  2002  2003  2004  2005  \n",
       " 0      0.0   0.0   0.0   0.0   0.0   0.0   0.0   0.0   5.0  \n",
       " 1      0.0   0.0   0.0   0.0   0.0   0.0   0.0   0.0   4.0  \n",
       " 2      0.0   0.0   0.0   0.0   0.0   0.0   0.0   0.0   4.0  \n",
       " 3      0.0   0.0   0.0   0.0   0.0   0.0   0.0   0.0   5.0  \n",
       " 4      0.0   0.0   0.0   0.0   0.0   0.0   0.0   0.0   4.0  \n",
       " ...    ...   ...   ...   ...   ...   ...   ...   ...   ...  \n",
       " 6035   0.0   0.0   0.0   0.0   0.0   0.0   0.0   0.0   0.0  \n",
       " 6036   0.0   0.0   0.0   0.0   0.0   0.0   0.0   0.0   0.0  \n",
       " 6037   0.0   0.0   0.0   0.0   0.0   0.0   0.0   0.0   0.0  \n",
       " 6038   0.0   0.0   0.0   0.0   0.0   0.0   0.0   0.0   0.0  \n",
       " 6039   0.0   0.0   0.0   0.0   0.0   0.0   0.0   0.0   5.0  \n",
       " \n",
       " [6040 rows x 2006 columns])"
      ]
     },
     "execution_count": 22,
     "metadata": {},
     "output_type": "execute_result"
    }
   ],
   "source": [
    "# Training Dataset\n",
    "train_ds = np.zeros((n_users, n_movies))\n",
    "for row in train_df.itertuples():\n",
    "    train_ds[row[1]-1, row[2]-1] = row[3]\n",
    "train_ds = pd.DataFrame(train_ds)\n",
    "\n",
    "# Testing Dataset\n",
    "test_ds = np.zeros((n_users, n_movies))\n",
    "for row in test_df.itertuples():\n",
    "    test_ds[row[1]-1, row[2]-1] = row[3]\n",
    "test_ds = pd.DataFrame(test_ds)\n",
    "\n",
    "train_ds, test_ds"
   ]
  },
  {
   "cell_type": "markdown",
   "metadata": {},
   "source": [
    "### Using the cosine similarity algorithm for finding the user similarity "
   ]
  },
  {
   "cell_type": "code",
   "execution_count": 23,
   "metadata": {},
   "outputs": [
    {
     "data": {
      "text/plain": [
       "array([[1., 0., 0., ..., 0., 0., 0.],\n",
       "       [0., 0., 0., ..., 0., 0., 0.],\n",
       "       [0., 0., 1., ..., 0., 0., 0.],\n",
       "       ...,\n",
       "       [0., 0., 0., ..., 1., 0., 0.],\n",
       "       [0., 0., 0., ..., 0., 1., 0.],\n",
       "       [0., 0., 0., ..., 0., 0., 1.]])"
      ]
     },
     "execution_count": 23,
     "metadata": {},
     "output_type": "execute_result"
    }
   ],
   "source": [
    "import numpy as np\n",
    "from sklearn.metrics.pairwise import cosine_similarity\n",
    "\n",
    "# Using the cosine similarity on the training data\n",
    "user_similarity = cosine_similarity(train_ds)\n",
    "user_similarity"
   ]
  },
  {
   "cell_type": "markdown",
   "metadata": {},
   "source": [
    "### Using K = 100"
   ]
  },
  {
   "cell_type": "code",
   "execution_count": 24,
   "metadata": {},
   "outputs": [],
   "source": [
    "\n",
    "np_predictions = np.zeros((n_users, n_movies))\n",
    "K = 100\n",
    "EPSILON = 1e-9\n",
    "\n",
    "# Selecting one random user\n",
    "random_user_index = np.random.choice(n_users)\n",
    "\n",
    "for j, rating in enumerate(test_ds.values[random_user_index]):\n",
    "    if rating > 0:\n",
    "        # Finding top-K most similar users \n",
    "        sim_user_ids = np.argsort(user_similarity[random_user_index])[-(K + 1):-1]\n",
    "\n",
    "        # Finding the coefficient values of similar users\n",
    "        sim_val = user_similarity[random_user_index][sim_user_ids]\n",
    "\n",
    "        # Calculating the average value of the current user's ratings\n",
    "        sim_users = train_ds.values[sim_user_ids]\n",
    "        user_mean = np.sum(train_ds.values[random_user_index]) / (np.sum(np.clip(train_ds.values[random_user_index], 0, 1)) + EPSILON)\n",
    "        sim_user_mean = np.sum(sim_users, axis=1) / (np.sum(np.clip(sim_users, 0, 1), axis=1) + EPSILON)\n",
    "\n",
    "        # Selecting the users who rated item j\n",
    "        mask_rated_j = sim_users[:, j] > 0\n",
    "        \n",
    "        \n",
    "        sim_r_sum_mean = sim_val[mask_rated_j] * (sim_users[mask_rated_j, j] - sim_user_mean[mask_rated_j])\n",
    "\n",
    "       \n",
    "        \n",
    "        np_predictions[random_user_index][j] = user_mean + np.sum(sim_r_sum_mean) / (np.sum(sim_val[mask_rated_j]) + EPSILON)\n",
    "        np_predictions[random_user_index][j] = np.clip(np_predictions[random_user_index][j], 0, 5)\n"
   ]
  },
  {
   "cell_type": "code",
   "execution_count": 25,
   "metadata": {},
   "outputs": [
    {
     "name": "stdout",
     "output_type": "stream",
     "text": [
      "RMSE on Tesing set (User-based),k= 100: 3.7765305365246853\n"
     ]
    }
   ],
   "source": [
    "labels = test_ds.values\n",
    "\n",
    "# squared error on all ratings\n",
    "squared_error = np.square(np_predictions - labels)\n",
    "weight = np.clip(labels, 0, 1)\n",
    "\n",
    "# squared error on rated ratings\n",
    "squared_error = squared_error * weight\n",
    "\n",
    "# RMSE\n",
    "RMSE = np.sqrt(np.sum(squared_error) / np.sum(weight))\n",
    "\n",
    "print(\"RMSE on Tesing set (User-based),k= 100: \" + str(RMSE));"
   ]
  },
  {
   "cell_type": "markdown",
   "metadata": {},
   "source": [
    "### Using k=50"
   ]
  },
  {
   "cell_type": "code",
   "execution_count": 26,
   "metadata": {},
   "outputs": [],
   "source": [
    "np_predictions = np.zeros((n_users, n_movies))\n",
    "K = 50\n",
    "EPSILON = 1e-9\n",
    "\n",
    "# Selecting one random user\n",
    "random_user_index = np.random.choice(n_users)\n",
    "\n",
    "for j, rating in enumerate(test_ds.values[random_user_index]):\n",
    "    if rating > 0:\n",
    "        # Finding top-K most similar users \n",
    "        sim_user_ids = np.argsort(user_similarity[random_user_index])[-(K + 1):-1]\n",
    "\n",
    "        # Finding the coefficient values of similar users\n",
    "        sim_val = user_similarity[random_user_index][sim_user_ids]\n",
    "\n",
    "        # Calculating the average value of the current user's ratings\n",
    "        sim_users = train_ds.values[sim_user_ids]\n",
    "        user_mean = np.sum(train_ds.values[random_user_index]) / (np.sum(np.clip(train_ds.values[random_user_index], 0, 1)) + EPSILON)\n",
    "        sim_user_mean = np.sum(sim_users, axis=1) / (np.sum(np.clip(sim_users, 0, 1), axis=1) + EPSILON)\n",
    "\n",
    "        # Selecting the users who rated item j\n",
    "        mask_rated_j = sim_users[:, j] > 0\n",
    "        \n",
    "        \n",
    "        sim_r_sum_mean = sim_val[mask_rated_j] * (sim_users[mask_rated_j, j] - sim_user_mean[mask_rated_j])\n",
    "\n",
    "       \n",
    "        \n",
    "        np_predictions[random_user_index][j] = user_mean + np.sum(sim_r_sum_mean) / (np.sum(sim_val[mask_rated_j]) + EPSILON)\n",
    "        np_predictions[random_user_index][j] = np.clip(np_predictions[random_user_index][j], 0, 5)\n"
   ]
  },
  {
   "cell_type": "code",
   "execution_count": 27,
   "metadata": {},
   "outputs": [
    {
     "name": "stdout",
     "output_type": "stream",
     "text": [
      "RMSE on Tesing set (User-based), k= 50: 3.7761478469737697\n"
     ]
    }
   ],
   "source": [
    "labels = test_ds.values\n",
    "\n",
    "# squared error on all ratings\n",
    "squared_error = np.square(np_predictions - labels)\n",
    "weight = np.clip(labels, 0, 1)\n",
    "\n",
    "# squared error on rated ratings\n",
    "squared_error = squared_error * weight\n",
    "\n",
    "# RMSE\n",
    "RMSE = np.sqrt(np.sum(squared_error) / np.sum(weight))\n",
    "\n",
    "print(\"RMSE on Tesing set (User-based), k= 50: \" + str(RMSE));"
   ]
  },
  {
   "cell_type": "markdown",
   "metadata": {},
   "source": [
    "### Using k=30"
   ]
  },
  {
   "cell_type": "code",
   "execution_count": 28,
   "metadata": {},
   "outputs": [],
   "source": [
    "np_predictions = np.zeros((n_users, n_movies))\n",
    "K = 30\n",
    "EPSILON = 1e-9\n",
    "\n",
    "# Selecting one random user\n",
    "random_user_index = np.random.choice(n_users)\n",
    "\n",
    "for j, rating in enumerate(test_ds.values[random_user_index]):\n",
    "    if rating > 0:\n",
    "        # Finding top-K most similar users \n",
    "        sim_user_ids = np.argsort(user_similarity[random_user_index])[-(K + 1):-1]\n",
    "\n",
    "        # Finding the coefficient values of similar users\n",
    "        sim_val = user_similarity[random_user_index][sim_user_ids]\n",
    "\n",
    "        # Calculating the average value of the current user's ratings\n",
    "        sim_users = train_ds.values[sim_user_ids]\n",
    "        user_mean = np.sum(train_ds.values[random_user_index]) / (np.sum(np.clip(train_ds.values[random_user_index], 0, 1)) + EPSILON)\n",
    "        sim_user_mean = np.sum(sim_users, axis=1) / (np.sum(np.clip(sim_users, 0, 1), axis=1) + EPSILON)\n",
    "\n",
    "        # Selecting the users who rated item j\n",
    "        mask_rated_j = sim_users[:, j] > 0\n",
    "        \n",
    "        \n",
    "        sim_r_sum_mean = sim_val[mask_rated_j] * (sim_users[mask_rated_j, j] - sim_user_mean[mask_rated_j])\n",
    "\n",
    "       \n",
    "        \n",
    "        np_predictions[random_user_index][j] = user_mean + np.sum(sim_r_sum_mean) / (np.sum(sim_val[mask_rated_j]) + EPSILON)\n",
    "        np_predictions[random_user_index][j] = np.clip(np_predictions[random_user_index][j], 0, 5)\n"
   ]
  },
  {
   "cell_type": "code",
   "execution_count": 29,
   "metadata": {},
   "outputs": [
    {
     "name": "stdout",
     "output_type": "stream",
     "text": [
      "RMSE on Tesing set (User-based), k= 30: 3.776628083464645\n"
     ]
    }
   ],
   "source": [
    "labels = test_ds.values\n",
    "\n",
    "# squared error on all ratings\n",
    "squared_error = np.square(np_predictions - labels)\n",
    "weight = np.clip(labels, 0, 1)\n",
    "\n",
    "# squared error on rated ratings\n",
    "squared_error = squared_error * weight\n",
    "\n",
    "# RMSE\n",
    "RMSE = np.sqrt(np.sum(squared_error) / np.sum(weight))\n",
    "\n",
    "print(\"RMSE on Tesing set (User-based), k= 30: \" + str(RMSE));"
   ]
  },
  {
   "cell_type": "markdown",
   "metadata": {},
   "source": [
    "### Uisng k = 20"
   ]
  },
  {
   "cell_type": "code",
   "execution_count": 30,
   "metadata": {},
   "outputs": [],
   "source": [
    "np_predictions = np.zeros((n_users, n_movies))\n",
    "K = 20\n",
    "EPSILON = 1e-9\n",
    "\n",
    "# Selecting one random user\n",
    "random_user_index = np.random.choice(n_users)\n",
    "\n",
    "for j, rating in enumerate(test_ds.values[random_user_index]):\n",
    "    if rating > 0:\n",
    "        # Finding top-K most similar users \n",
    "        sim_user_ids = np.argsort(user_similarity[random_user_index])[-(K + 1):-1]\n",
    "\n",
    "        # Finding the coefficient values of similar users\n",
    "        sim_val = user_similarity[random_user_index][sim_user_ids]\n",
    "\n",
    "        # Calculating the average value of the current user's ratings\n",
    "        sim_users = train_ds.values[sim_user_ids]\n",
    "        user_mean = np.sum(train_ds.values[random_user_index]) / (np.sum(np.clip(train_ds.values[random_user_index], 0, 1)) + EPSILON)\n",
    "        sim_user_mean = np.sum(sim_users, axis=1) / (np.sum(np.clip(sim_users, 0, 1), axis=1) + EPSILON)\n",
    "\n",
    "        # Selecting the users who rated item j\n",
    "        mask_rated_j = sim_users[:, j] > 0\n",
    "        \n",
    "        \n",
    "        sim_r_sum_mean = sim_val[mask_rated_j] * (sim_users[mask_rated_j, j] - sim_user_mean[mask_rated_j])\n",
    "\n",
    "       \n",
    "        \n",
    "        np_predictions[random_user_index][j] = user_mean + np.sum(sim_r_sum_mean) / (np.sum(sim_val[mask_rated_j]) + EPSILON)\n",
    "        np_predictions[random_user_index][j] = np.clip(np_predictions[random_user_index][j], 0, 5)\n"
   ]
  },
  {
   "cell_type": "code",
   "execution_count": 31,
   "metadata": {},
   "outputs": [
    {
     "name": "stdout",
     "output_type": "stream",
     "text": [
      "RMSE on Tesing set (User-based): 3.775956670681962\n"
     ]
    }
   ],
   "source": [
    "labels = test_ds.values\n",
    "\n",
    "# squared error on all ratings\n",
    "squared_error = np.square(np_predictions - labels)\n",
    "weight = np.clip(labels, 0, 1)\n",
    "\n",
    "# squared error on rated ratings\n",
    "squared_error = squared_error * weight\n",
    "\n",
    "# RMSE\n",
    "RMSE = np.sqrt(np.sum(squared_error) / np.sum(weight))\n",
    "\n",
    "print(\"RMSE on Tesing set (User-based): \" + str(RMSE));"
   ]
  },
  {
   "cell_type": "markdown",
   "metadata": {},
   "source": [
    " ### Using k = 10"
   ]
  },
  {
   "cell_type": "code",
   "execution_count": 32,
   "metadata": {},
   "outputs": [],
   "source": [
    "np_predictions = np.zeros((n_users, n_movies))\n",
    "K = 20\n",
    "EPSILON = 1e-9\n",
    "\n",
    "# Selecting one random user\n",
    "random_user_index = np.random.choice(n_users)\n",
    "\n",
    "for j, rating in enumerate(test_ds.values[random_user_index]):\n",
    "    if rating > 0:\n",
    "        # Finding top-K most similar users \n",
    "        sim_user_ids = np.argsort(user_similarity[random_user_index])[-(K + 1):-1]\n",
    "\n",
    "        # Finding the coefficient values of similar users\n",
    "        sim_val = user_similarity[random_user_index][sim_user_ids]\n",
    "\n",
    "        # Calculating the average value of the current user's ratings\n",
    "        sim_users = train_ds.values[sim_user_ids]\n",
    "        user_mean = np.sum(train_ds.values[random_user_index]) / (np.sum(np.clip(train_ds.values[random_user_index], 0, 1)) + EPSILON)\n",
    "        sim_user_mean = np.sum(sim_users, axis=1) / (np.sum(np.clip(sim_users, 0, 1), axis=1) + EPSILON)\n",
    "\n",
    "        # Selecting the users who rated item j\n",
    "        mask_rated_j = sim_users[:, j] > 0\n",
    "        \n",
    "        \n",
    "        sim_r_sum_mean = sim_val[mask_rated_j] * (sim_users[mask_rated_j, j] - sim_user_mean[mask_rated_j])\n",
    "\n",
    "       \n",
    "        \n",
    "        np_predictions[random_user_index][j] = user_mean + np.sum(sim_r_sum_mean) / (np.sum(sim_val[mask_rated_j]) + EPSILON)\n",
    "        np_predictions[random_user_index][j] = np.clip(np_predictions[random_user_index][j], 0, 5)\n"
   ]
  },
  {
   "cell_type": "code",
   "execution_count": 33,
   "metadata": {},
   "outputs": [
    {
     "name": "stdout",
     "output_type": "stream",
     "text": [
      "RMSE on Tesing set (User-based), k=10: 3.776655180721159\n"
     ]
    }
   ],
   "source": [
    "labels = test_ds.values\n",
    "\n",
    "# squared error on all ratings\n",
    "squared_error = np.square(np_predictions - labels)\n",
    "weight = np.clip(labels, 0, 1)\n",
    "\n",
    "# squared error on rated ratings\n",
    "squared_error = squared_error * weight\n",
    "\n",
    "# RMSE\n",
    "RMSE = np.sqrt(np.sum(squared_error) / np.sum(weight))\n",
    "\n",
    "print(\"RMSE on Tesing set (User-based), k=10: \" + str(RMSE));"
   ]
  },
  {
   "cell_type": "markdown",
   "metadata": {
    "id": "r-i5aIqXpPbu"
   },
   "source": [
    "# Task 2: Item-based Filtering"
   ]
  },
  {
   "cell_type": "markdown",
   "metadata": {},
   "source": [
    "### Using the cosine similarity test for item-item similarity"
   ]
  },
  {
   "cell_type": "code",
   "execution_count": 39,
   "metadata": {},
   "outputs": [
    {
     "data": {
      "text/plain": [
       "array([[1.        , 0.        , 0.        , ..., 0.        , 0.        ,\n",
       "        0.        ],\n",
       "       [0.        , 1.        , 0.        , ..., 0.        , 0.        ,\n",
       "        0.00799019],\n",
       "       [0.        , 0.        , 1.        , ..., 0.        , 0.        ,\n",
       "        0.0207289 ],\n",
       "       ...,\n",
       "       [0.        , 0.        , 0.        , ..., 1.        , 0.        ,\n",
       "        0.        ],\n",
       "       [0.        , 0.        , 0.        , ..., 0.        , 1.        ,\n",
       "        0.        ],\n",
       "       [0.        , 0.00799019, 0.0207289 , ..., 0.        , 0.        ,\n",
       "        1.        ]])"
      ]
     },
     "execution_count": 39,
     "metadata": {},
     "output_type": "execute_result"
    }
   ],
   "source": [
    "from sklearn.metrics.pairwise import cosine_similarity\n",
    "# Using the transpose function, we can make the movies become the rows\n",
    "movie_similarity = cosine_similarity(train_ds.transpose())\n",
    "movie_similarity"
   ]
  },
  {
   "cell_type": "code",
   "execution_count": 40,
   "metadata": {},
   "outputs": [],
   "source": [
    "import numpy as np\n",
    "\n",
    "\n",
    "K = 3\n",
    "EPSILON = 1e-9\n",
    "\n",
    "# Pre-compute the mean rating for each movie\n",
    "movie_means = np.nanmean(train_ds.values, axis=0)\n",
    "\n",
    "# Create a placeholder for predicted ratings\n",
    "np_predictions = np.zeros((n_users, n_movies))\n",
    "\n",
    "\n",
    "# Randomly choose a movie for prediction\n",
    "random_movie_index = np.random.choice(n_movies)\n",
    "\n",
    "# Loop through each user and rated movie to predict the rating\n",
    "for i, user_ratings in enumerate(test_ds.values):\n",
    "    # Indices of movies that the user has rated\n",
    "    rated_movies = np.where(user_ratings > 0)[0]\n",
    "    \n",
    "    # If the user has rated at least one movie\n",
    "    if len(rated_movies) > 0:\n",
    "        # For each rated movie\n",
    "        for j in rated_movies:\n",
    "            # Get indices of top-K similar movies, excluding the movie itself\n",
    "            sim_movie_ids = np.argsort(movie_similarity[j])[-(K + 1):-1]\n",
    "            \n",
    "            # Extract the similarities and ratings of the top-K similar movies\n",
    "            sim_values = movie_similarity[j][sim_movie_ids]\n",
    "            sim_movie_ratings = train_ds.values[i, sim_movie_ids]\n",
    "            \n",
    "            # Identify the movies among the top-K that the user has actually rated\n",
    "            mask_rated = sim_movie_ratings > 0\n",
    "            \n",
    "            # Compute predicted rating using a weighted sum\n",
    "            if np.sum(mask_rated) > 0:\n",
    "                numerator = np.dot(sim_values[mask_rated], sim_movie_ratings[mask_rated] - movie_means[sim_movie_ids][mask_rated])\n",
    "                denominator = np.sum(np.abs(sim_values[mask_rated])) + EPSILON\n",
    "                predicted_rating = movie_means[j] + (numerator / denominator)\n",
    "                \n",
    "                # Clip the predicted rating to be between 0 and 5\n",
    "                np_predictions[i, j] = np.clip(predicted_rating, 0, 5)\n"
   ]
  },
  {
   "cell_type": "code",
   "execution_count": 41,
   "metadata": {},
   "outputs": [
    {
     "name": "stdout",
     "output_type": "stream",
     "text": [
      "RMSE on Tesing set (Item-based): 3.767983436875267\n"
     ]
    }
   ],
   "source": [
    "labels = test_ds.values\n",
    "\n",
    "# squared error on all ratings\n",
    "squared_error = np.square(np_predictions - labels)\n",
    "weight = np.clip(labels, 0, 1)\n",
    "\n",
    "# squared error on rated ratings\n",
    "squared_error = squared_error * weight\n",
    "\n",
    "# RMSE\n",
    "RMSE = np.sqrt(np.sum(squared_error) / np.sum(weight))\n",
    "\n",
    "print(\"RMSE on Tesing set (Item-based): \" + str(RMSE))"
   ]
  },
  {
   "cell_type": "markdown",
   "metadata": {},
   "source": [
    "### Using the jaccard similarity test for item-item similarity"
   ]
  },
  {
   "cell_type": "code",
   "execution_count": 34,
   "metadata": {},
   "outputs": [],
   "source": [
    "\n",
    "\n",
    "n_movies = train_ds.shape[1]\n",
    "\n",
    "# Initialize a zero matrix for storing item-item Jaccard similarities\n",
    "np_item_jaccard_sim = np.zeros((n_movies, n_movies))\n",
    "\n",
    "for i, item_i_vec in enumerate(train_ds.T.values):\n",
    "    for j, item_j_vec in enumerate(train_ds.T.values):\n",
    "        \n",
    "        # Boolean masks for rated items\n",
    "        mask_i = item_i_vec > 0\n",
    "        mask_j = item_j_vec > 0\n",
    "        \n",
    "        # Find intersection and union of two masks\n",
    "        intersection = np.sum(mask_i & mask_j)\n",
    "        union = np.sum(mask_i | mask_j)\n",
    "        \n",
    "        # Calculate Jaccard similarity\n",
    "        if union == 0:\n",
    "            sim = 0\n",
    "        else:\n",
    "            sim = intersection / union\n",
    "        \n",
    "        np_item_jaccard_sim[i][j] = sim\n"
   ]
  },
  {
   "cell_type": "code",
   "execution_count": 35,
   "metadata": {},
   "outputs": [
    {
     "data": {
      "text/plain": [
       "array([[1.        , 0.        , 0.        , ..., 0.        , 0.        ,\n",
       "        0.        ],\n",
       "       [0.        , 1.        , 0.        , ..., 0.        , 0.        ,\n",
       "        0.01587302],\n",
       "       [0.        , 0.        , 1.        , ..., 0.        , 0.        ,\n",
       "        0.01098901],\n",
       "       ...,\n",
       "       [0.        , 0.        , 0.        , ..., 1.        , 0.        ,\n",
       "        0.        ],\n",
       "       [0.        , 0.        , 0.        , ..., 0.        , 1.        ,\n",
       "        0.        ],\n",
       "       [0.        , 0.01587302, 0.01098901, ..., 0.        , 0.        ,\n",
       "        1.        ]])"
      ]
     },
     "execution_count": 35,
     "metadata": {},
     "output_type": "execute_result"
    }
   ],
   "source": [
    "np_item_jaccard_sim"
   ]
  },
  {
   "cell_type": "code",
   "execution_count": 37,
   "metadata": {},
   "outputs": [],
   "source": [
    "# Randomly choose a movie for prediction\n",
    "random_movie_index = np.random.choice(n_movies)\n",
    "movie_means = np.nanmean(train_ds.values, axis=0)\n",
    "# Create a placeholder for predicted ratings for this movie only\n",
    "np_predictions_random_movie = np.zeros(n_users)\n",
    "\n",
    "# Loop through each user and rated movie to predict the rating\n",
    "for i, user_ratings in enumerate(test_ds.values):\n",
    "    # Check if the user has rated the randomly chosen movie\n",
    "    if user_ratings[random_movie_index] > 0:\n",
    "        \n",
    "        # Get indices of top-K similar movies, excluding the movie itself\n",
    "        sim_movie_ids = np.argsort(np_item_jaccard_sim[random_movie_index])[-(K + 1):-1]\n",
    "        \n",
    "        # Extract the Jaccard similarities and ratings of the top-K similar movies\n",
    "        sim_values = np_item_jaccard_sim[random_movie_index][sim_movie_ids]\n",
    "        sim_movie_ratings = train_ds.values[i, sim_movie_ids]\n",
    "        \n",
    "        # Identify the movies among the top-K that the user has actually rated\n",
    "        mask_rated = sim_movie_ratings > 0\n",
    "        \n",
    "        # Compute predicted rating using a weighted sum\n",
    "        if np.sum(mask_rated) > 0:\n",
    "            numerator = np.dot(sim_values[mask_rated], sim_movie_ratings[mask_rated] - movie_means[sim_movie_ids][mask_rated])\n",
    "            denominator = np.sum(np.abs(sim_values[mask_rated])) + EPSILON\n",
    "            predicted_rating = movie_means[random_movie_index] + (numerator / denominator)\n",
    "            \n",
    "            # Clip the predicted rating to be between 0 and 5\n",
    "            np_predictions_random_movie[i] = np.clip(predicted_rating, 0, 5)\n",
    "\n",
    "\n"
   ]
  },
  {
   "cell_type": "code",
   "execution_count": 38,
   "metadata": {},
   "outputs": [
    {
     "name": "stdout",
     "output_type": "stream",
     "text": [
      "RMSE on Tesing set (Item-based): 3.776655180721159\n"
     ]
    }
   ],
   "source": [
    "labels = test_ds.values\n",
    "\n",
    "# squared error on all ratings\n",
    "squared_error = np.square(np_predictions - labels)\n",
    "weight = np.clip(labels, 0, 1)\n",
    "\n",
    "# squared error on rated ratings\n",
    "squared_error = squared_error * weight\n",
    "\n",
    "# RMSE\n",
    "RMSE = np.sqrt(np.sum(squared_error) / np.sum(weight))\n",
    "\n",
    "print(\"RMSE on Tesing set (Item-based): \" + str(RMSE))"
   ]
  },
  {
   "cell_type": "markdown",
   "metadata": {
    "id": "r-i5aIqXpPbu"
   },
   "source": [
    "# Task 3: A Better Recommender System"
   ]
  },
  {
   "cell_type": "markdown",
   "metadata": {},
   "source": [
    "#### Option Chosen: `Option1RecSys`"
   ]
  },
  {
   "cell_type": "markdown",
   "metadata": {},
   "source": [
    "Recommender system used: NEURAL COLLABORATIVE FILTERING \n",
    "\n",
    "Reference: He, X., Liao, L., Zhang, H., Nie, L., Hu, X., & Chua, T. S. (2017). Neural Collaborative Filtering."
   ]
  },
  {
   "cell_type": "code",
   "execution_count": 16,
   "metadata": {},
   "outputs": [
    {
     "name": "stderr",
     "output_type": "stream",
     "text": [
      "2023-10-18 14:10:16.491716: I tensorflow/core/platform/cpu_feature_guard.cc:182] This TensorFlow binary is optimized to use available CPU instructions in performance-critical operations.\n",
      "To enable the following instructions: AVX2 FMA, in other operations, rebuild TensorFlow with the appropriate compiler flags.\n"
     ]
    }
   ],
   "source": [
    "# Installing libraries for carrying neural collaboratuve filtering\n",
    "import numpy as np\n",
    "import pandas as pd\n",
    "from sklearn.model_selection import train_test_split\n",
    "from tensorflow.keras.models import Model\n",
    "from tensorflow.keras.layers import Input,Embedding,Flatten,Concatenate,Dense\n",
    "from tensorflow.keras.optimizers import Adam"
   ]
  },
  {
   "cell_type": "markdown",
   "metadata": {},
   "source": [
    "### Loading the data"
   ]
  },
  {
   "cell_type": "code",
   "execution_count": 17,
   "metadata": {},
   "outputs": [
    {
     "data": {
      "text/html": [
       "<div>\n",
       "<style scoped>\n",
       "    .dataframe tbody tr th:only-of-type {\n",
       "        vertical-align: middle;\n",
       "    }\n",
       "\n",
       "    .dataframe tbody tr th {\n",
       "        vertical-align: top;\n",
       "    }\n",
       "\n",
       "    .dataframe thead th {\n",
       "        text-align: right;\n",
       "    }\n",
       "</style>\n",
       "<table border=\"1\" class=\"dataframe\">\n",
       "  <thead>\n",
       "    <tr style=\"text-align: right;\">\n",
       "      <th></th>\n",
       "      <th>UserID</th>\n",
       "      <th>MovieID</th>\n",
       "      <th>Rating</th>\n",
       "      <th>Timestamp</th>\n",
       "      <th>MovieTitle</th>\n",
       "      <th>MovieGenre</th>\n",
       "    </tr>\n",
       "  </thead>\n",
       "  <tbody>\n",
       "    <tr>\n",
       "      <th>0</th>\n",
       "      <td>1</td>\n",
       "      <td>1193</td>\n",
       "      <td>5</td>\n",
       "      <td>978300760</td>\n",
       "      <td>One Flew Over the Cuckoo's Nest (1975)</td>\n",
       "      <td>Drama</td>\n",
       "    </tr>\n",
       "    <tr>\n",
       "      <th>1</th>\n",
       "      <td>2</td>\n",
       "      <td>1193</td>\n",
       "      <td>5</td>\n",
       "      <td>978298413</td>\n",
       "      <td>One Flew Over the Cuckoo's Nest (1975)</td>\n",
       "      <td>Drama</td>\n",
       "    </tr>\n",
       "    <tr>\n",
       "      <th>2</th>\n",
       "      <td>12</td>\n",
       "      <td>1193</td>\n",
       "      <td>4</td>\n",
       "      <td>978220179</td>\n",
       "      <td>One Flew Over the Cuckoo's Nest (1975)</td>\n",
       "      <td>Drama</td>\n",
       "    </tr>\n",
       "    <tr>\n",
       "      <th>3</th>\n",
       "      <td>15</td>\n",
       "      <td>1193</td>\n",
       "      <td>4</td>\n",
       "      <td>978199279</td>\n",
       "      <td>One Flew Over the Cuckoo's Nest (1975)</td>\n",
       "      <td>Drama</td>\n",
       "    </tr>\n",
       "    <tr>\n",
       "      <th>4</th>\n",
       "      <td>17</td>\n",
       "      <td>1193</td>\n",
       "      <td>5</td>\n",
       "      <td>978158471</td>\n",
       "      <td>One Flew Over the Cuckoo's Nest (1975)</td>\n",
       "      <td>Drama</td>\n",
       "    </tr>\n",
       "    <tr>\n",
       "      <th>...</th>\n",
       "      <td>...</td>\n",
       "      <td>...</td>\n",
       "      <td>...</td>\n",
       "      <td>...</td>\n",
       "      <td>...</td>\n",
       "      <td>...</td>\n",
       "    </tr>\n",
       "    <tr>\n",
       "      <th>1000204</th>\n",
       "      <td>5949</td>\n",
       "      <td>2198</td>\n",
       "      <td>5</td>\n",
       "      <td>958846401</td>\n",
       "      <td>Modulations (1998)</td>\n",
       "      <td>Documentary</td>\n",
       "    </tr>\n",
       "    <tr>\n",
       "      <th>1000205</th>\n",
       "      <td>5675</td>\n",
       "      <td>2703</td>\n",
       "      <td>3</td>\n",
       "      <td>976029116</td>\n",
       "      <td>Broken Vessels (1998)</td>\n",
       "      <td>Drama</td>\n",
       "    </tr>\n",
       "    <tr>\n",
       "      <th>1000206</th>\n",
       "      <td>5780</td>\n",
       "      <td>2845</td>\n",
       "      <td>1</td>\n",
       "      <td>958153068</td>\n",
       "      <td>White Boys (1999)</td>\n",
       "      <td>Drama</td>\n",
       "    </tr>\n",
       "    <tr>\n",
       "      <th>1000207</th>\n",
       "      <td>5851</td>\n",
       "      <td>3607</td>\n",
       "      <td>5</td>\n",
       "      <td>957756608</td>\n",
       "      <td>One Little Indian (1973)</td>\n",
       "      <td>Comedy|Drama|Western</td>\n",
       "    </tr>\n",
       "    <tr>\n",
       "      <th>1000208</th>\n",
       "      <td>5938</td>\n",
       "      <td>2909</td>\n",
       "      <td>4</td>\n",
       "      <td>957273353</td>\n",
       "      <td>Five Wives, Three Secretaries and Me (1998)</td>\n",
       "      <td>Documentary</td>\n",
       "    </tr>\n",
       "  </tbody>\n",
       "</table>\n",
       "<p>1000209 rows × 6 columns</p>\n",
       "</div>"
      ],
      "text/plain": [
       "         UserID  MovieID  Rating  Timestamp  \\\n",
       "0             1     1193       5  978300760   \n",
       "1             2     1193       5  978298413   \n",
       "2            12     1193       4  978220179   \n",
       "3            15     1193       4  978199279   \n",
       "4            17     1193       5  978158471   \n",
       "...         ...      ...     ...        ...   \n",
       "1000204    5949     2198       5  958846401   \n",
       "1000205    5675     2703       3  976029116   \n",
       "1000206    5780     2845       1  958153068   \n",
       "1000207    5851     3607       5  957756608   \n",
       "1000208    5938     2909       4  957273353   \n",
       "\n",
       "                                          MovieTitle            MovieGenre  \n",
       "0             One Flew Over the Cuckoo's Nest (1975)                 Drama  \n",
       "1             One Flew Over the Cuckoo's Nest (1975)                 Drama  \n",
       "2             One Flew Over the Cuckoo's Nest (1975)                 Drama  \n",
       "3             One Flew Over the Cuckoo's Nest (1975)                 Drama  \n",
       "4             One Flew Over the Cuckoo's Nest (1975)                 Drama  \n",
       "...                                              ...                   ...  \n",
       "1000204                           Modulations (1998)           Documentary  \n",
       "1000205                        Broken Vessels (1998)                 Drama  \n",
       "1000206                            White Boys (1999)                 Drama  \n",
       "1000207                     One Little Indian (1973)  Comedy|Drama|Western  \n",
       "1000208  Five Wives, Three Secretaries and Me (1998)           Documentary  \n",
       "\n",
       "[1000209 rows x 6 columns]"
      ]
     },
     "execution_count": 17,
     "metadata": {},
     "output_type": "execute_result"
    }
   ],
   "source": [
    "# Using and loading the merged_df dataframe \n",
    "merged_df"
   ]
  },
  {
   "cell_type": "markdown",
   "metadata": {},
   "source": [
    "### Processing the data "
   ]
  },
  {
   "cell_type": "code",
   "execution_count": 18,
   "metadata": {},
   "outputs": [
    {
     "name": "stderr",
     "output_type": "stream",
     "text": [
      "/var/folders/gc/2rlm0d0d32b9gg4_8xyk9s6h0000gn/T/ipykernel_81644/3747358429.py:12: SettingWithCopyWarning: \n",
      "A value is trying to be set on a copy of a slice from a DataFrame.\n",
      "Try using .loc[row_indexer,col_indexer] = value instead\n",
      "\n",
      "See the caveats in the documentation: https://pandas.pydata.org/pandas-docs/stable/user_guide/indexing.html#returning-a-view-versus-a-copy\n",
      "  df[\"UserID\"] = df[\"UserID\"].map(user_id_encoded)# mapping the userID to corresponding interger in user_id_encoded\n",
      "/var/folders/gc/2rlm0d0d32b9gg4_8xyk9s6h0000gn/T/ipykernel_81644/3747358429.py:13: SettingWithCopyWarning: \n",
      "A value is trying to be set on a copy of a slice from a DataFrame.\n",
      "Try using .loc[row_indexer,col_indexer] = value instead\n",
      "\n",
      "See the caveats in the documentation: https://pandas.pydata.org/pandas-docs/stable/user_guide/indexing.html#returning-a-view-versus-a-copy\n",
      "  df[\"MovieID\"] = df[\"MovieID\"].map(Movie_id_encoded)# mapping the movieID to corresponding integer in movie_id_encoded\n"
     ]
    }
   ],
   "source": [
    "user_id = df[\"UserID\"].unique().tolist()# Making the userID unique and in a well sequenced list \n",
    "user_id_encoded = {x: i for i,x in enumerate(user_id)}# Making a dictionary mapping the unique value of userid from the sequenced integer number\n",
    "user_id_encoded\n",
    "\n",
    "\n",
    "movie_id = df[\"MovieID\"].unique().tolist() # Making the MovieID unique and in a well sequenced list \n",
    "Movie_id_encoded = {x: i for i,x in enumerate(movie_id)}# Making a dictionary mapping the unique value of MovieID from the sequenced integer number\n",
    "\n",
    "\n",
    "# creating new dataframes for movie and user\n",
    "\n",
    "df[\"UserID\"] = df[\"UserID\"].map(user_id_encoded)# mapping the userID to corresponding interger in user_id_encoded\n",
    "df[\"MovieID\"] = df[\"MovieID\"].map(Movie_id_encoded)# mapping the movieID to corresponding integer in movie_id_encoded\n",
    "\n",
    "\n"
   ]
  },
  {
   "cell_type": "code",
   "execution_count": 19,
   "metadata": {},
   "outputs": [
    {
     "name": "stdout",
     "output_type": "stream",
     "text": [
      "Number of users in the merged_df data is 6040\n",
      "Number of movies in the merged_df data is 2006\n"
     ]
    }
   ],
   "source": [
    "# Getting the number of users and movies\n",
    "\n",
    "n_users = len(user_id_encoded)\n",
    "n_movies = len(Movie_id_encoded)\n",
    "print(\"Number of users in the merged_df data is \" + str(n_users))\n",
    "print(\"Number of movies in the merged_df data is \" + str(n_movies))"
   ]
  },
  {
   "cell_type": "code",
   "execution_count": 20,
   "metadata": {},
   "outputs": [],
   "source": [
    "# Training-splitting data\n",
    "df_train,df_test = train_test_split(merged_df,test_size = 0.2, random_state = 42)"
   ]
  },
  {
   "cell_type": "code",
   "execution_count": 25,
   "metadata": {},
   "outputs": [
    {
     "name": "stdout",
     "output_type": "stream",
     "text": [
      "Maximum user id is : 6040\n",
      "Maximum movie id is : 3952\n"
     ]
    }
   ],
   "source": [
    "# Example\n",
    "max_user_id = df_train['UserID'].max() \n",
    "max_movie_id = df_train['MovieID'].max()  \n",
    "print(\"Maximum user id is : \"+  str(max_user_id))\n",
    "print(\"Maximum movie id is : \"+  str(max_movie_id))"
   ]
  },
  {
   "cell_type": "code",
   "execution_count": 21,
   "metadata": {},
   "outputs": [],
   "source": [
    "n_unique_users = df_train['UserID'].nunique()\n",
    "n_unique_movies = df_train['MovieID'].nunique()\n"
   ]
  },
  {
   "cell_type": "code",
   "execution_count": 23,
   "metadata": {},
   "outputs": [],
   "source": [
    "# Building model \n",
    "embedding_size = 50\n",
    "\n",
    "# User embedding\n",
    "user_input = Input(shape=(1,))\n",
    "user_embedding = Embedding(input_dim=6041, output_dim=embedding_size, input_length=1)(user_input)\n",
    "user_vec = Flatten()(user_embedding)\n",
    "\n",
    "# Movie embedding\n",
    "movie_input = Input(shape=(1,))\n",
    "movie_embedding = Embedding(input_dim=3953, output_dim=embedding_size, input_length=1)(movie_input)\n",
    "movie_vec = Flatten()(movie_embedding)\n",
    "\n",
    "# Concatenate features that are movie and users \n",
    "merged = Concatenate()([user_vec, movie_vec])\n",
    "\n",
    "\n",
    "\n",
    "# Establishing Neural network collaborative filtering\n",
    "\n",
    "hidden = Dense(128,activation = 'relu')(merged)\n",
    "hidden = Dense(64,activation = 'relu')(hidden)\n",
    "\n",
    "\n",
    "# Output layer\n",
    "output = Dense(1)(hidden)\n",
    "\n",
    "model = Model([user_input,movie_input],output)\n",
    "model.compile(optimizer = Adam(0.001), loss = 'mean_squared_error')"
   ]
  },
  {
   "cell_type": "code",
   "execution_count": 24,
   "metadata": {},
   "outputs": [
    {
     "name": "stdout",
     "output_type": "stream",
     "text": [
      "Epoch 1/10\n",
      "313/313 [==============================] - 9s 24ms/step - loss: 1.8385 - val_loss: 0.8507\n",
      "Epoch 2/10\n",
      "313/313 [==============================] - 6s 20ms/step - loss: 0.8386 - val_loss: 0.8343\n",
      "Epoch 3/10\n",
      "313/313 [==============================] - 6s 19ms/step - loss: 0.8177 - val_loss: 0.8166\n",
      "Epoch 4/10\n",
      "313/313 [==============================] - 6s 19ms/step - loss: 0.7931 - val_loss: 0.8023\n",
      "Epoch 5/10\n",
      "313/313 [==============================] - 6s 20ms/step - loss: 0.7737 - val_loss: 0.7956\n",
      "Epoch 6/10\n",
      "313/313 [==============================] - 7s 24ms/step - loss: 0.7561 - val_loss: 0.7896\n",
      "Epoch 7/10\n",
      "313/313 [==============================] - 7s 23ms/step - loss: 0.7356 - val_loss: 0.7861\n",
      "Epoch 8/10\n",
      "313/313 [==============================] - 7s 21ms/step - loss: 0.7125 - val_loss: 0.7887\n",
      "Epoch 9/10\n",
      "313/313 [==============================] - 6s 19ms/step - loss: 0.6867 - val_loss: 0.7933\n",
      "Epoch 10/10\n",
      "313/313 [==============================] - 6s 20ms/step - loss: 0.6604 - val_loss: 0.7971\n"
     ]
    }
   ],
   "source": [
    "# Fitting the model\n",
    "\n",
    "history = model.fit(\n",
    "    [df_train[\"UserID\"], df_train[\"MovieID\"]],\n",
    "    df_train[\"Rating\"],\n",
    "    batch_size=2048,\n",
    "    epochs=10,\n",
    "    verbose=1,\n",
    "    validation_split=0.2,\n",
    ")\n"
   ]
  },
  {
   "cell_type": "code",
   "execution_count": 33,
   "metadata": {},
   "outputs": [
    {
     "name": "stdout",
     "output_type": "stream",
     "text": [
      "6252/6252 [==============================] - 13s 2ms/step\n"
     ]
    }
   ],
   "source": [
    "# Make prediction\n",
    "predictions = model.predict([df_test[\"UserID\"], df_test[\"MovieID\"]])\n",
    "\n",
    "\n"
   ]
  },
  {
   "cell_type": "code",
   "execution_count": 34,
   "metadata": {},
   "outputs": [
    {
     "data": {
      "text/html": [
       "<div>\n",
       "<style scoped>\n",
       "    .dataframe tbody tr th:only-of-type {\n",
       "        vertical-align: middle;\n",
       "    }\n",
       "\n",
       "    .dataframe tbody tr th {\n",
       "        vertical-align: top;\n",
       "    }\n",
       "\n",
       "    .dataframe thead th {\n",
       "        text-align: right;\n",
       "    }\n",
       "</style>\n",
       "<table border=\"1\" class=\"dataframe\">\n",
       "  <thead>\n",
       "    <tr style=\"text-align: right;\">\n",
       "      <th></th>\n",
       "      <th>UserID</th>\n",
       "      <th>MovieID</th>\n",
       "      <th>Rating</th>\n",
       "      <th>Timestamp</th>\n",
       "      <th>MovieTitle</th>\n",
       "      <th>MovieGenre</th>\n",
       "    </tr>\n",
       "  </thead>\n",
       "  <tbody>\n",
       "    <tr>\n",
       "      <th>106749</th>\n",
       "      <td>6016</td>\n",
       "      <td>982</td>\n",
       "      <td>2</td>\n",
       "      <td>956958317</td>\n",
       "      <td>Picnic (1955)</td>\n",
       "      <td>Drama</td>\n",
       "    </tr>\n",
       "  </tbody>\n",
       "</table>\n",
       "</div>"
      ],
      "text/plain": [
       "        UserID  MovieID  Rating  Timestamp     MovieTitle MovieGenre\n",
       "106749    6016      982       2  956958317  Picnic (1955)      Drama"
      ]
     },
     "execution_count": 34,
     "metadata": {},
     "output_type": "execute_result"
    }
   ],
   "source": [
    "df_test.sample()"
   ]
  },
  {
   "cell_type": "code",
   "execution_count": 37,
   "metadata": {},
   "outputs": [
    {
     "name": "stdout",
     "output_type": "stream",
     "text": [
      "1/1 [==============================] - 0s 109ms/step\n",
      "The predicted rating for user 6016 and movie 982 is 3.422943115234375\n"
     ]
    }
   ],
   "source": [
    "import numpy as np\n",
    "\n",
    "# For a single prediction\n",
    "user_id_to_predict = np.array([6016])  \n",
    "movie_id_to_predict = np.array([982])  \n",
    "\n",
    "# Make the prediction\n",
    "predicted_rating = model.predict([user_id_to_predict, movie_id_to_predict])\n",
    "\n",
    "print(f\"The predicted rating for user {user_id_to_predict[0]} and movie {movie_id_to_predict[0]} is {predicted_rating[0][0]}\")\n",
    "\n"
   ]
  },
  {
   "cell_type": "code",
   "execution_count": 38,
   "metadata": {},
   "outputs": [
    {
     "data": {
      "text/html": [
       "<div>\n",
       "<style scoped>\n",
       "    .dataframe tbody tr th:only-of-type {\n",
       "        vertical-align: middle;\n",
       "    }\n",
       "\n",
       "    .dataframe tbody tr th {\n",
       "        vertical-align: top;\n",
       "    }\n",
       "\n",
       "    .dataframe thead th {\n",
       "        text-align: right;\n",
       "    }\n",
       "</style>\n",
       "<table border=\"1\" class=\"dataframe\">\n",
       "  <thead>\n",
       "    <tr style=\"text-align: right;\">\n",
       "      <th></th>\n",
       "      <th>UserID</th>\n",
       "      <th>MovieID</th>\n",
       "      <th>Rating</th>\n",
       "      <th>Timestamp</th>\n",
       "      <th>MovieTitle</th>\n",
       "      <th>MovieGenre</th>\n",
       "    </tr>\n",
       "  </thead>\n",
       "  <tbody>\n",
       "    <tr>\n",
       "      <th>908725</th>\n",
       "      <td>2785</td>\n",
       "      <td>3185</td>\n",
       "      <td>3</td>\n",
       "      <td>972988761</td>\n",
       "      <td>Snow Falling on Cedars (1999)</td>\n",
       "      <td>Drama</td>\n",
       "    </tr>\n",
       "  </tbody>\n",
       "</table>\n",
       "</div>"
      ],
      "text/plain": [
       "        UserID  MovieID  Rating  Timestamp                     MovieTitle  \\\n",
       "908725    2785     3185       3  972988761  Snow Falling on Cedars (1999)   \n",
       "\n",
       "       MovieGenre  \n",
       "908725      Drama  "
      ]
     },
     "execution_count": 38,
     "metadata": {},
     "output_type": "execute_result"
    }
   ],
   "source": [
    "df_train.sample()"
   ]
  },
  {
   "cell_type": "code",
   "execution_count": 39,
   "metadata": {},
   "outputs": [
    {
     "name": "stdout",
     "output_type": "stream",
     "text": [
      "1/1 [==============================] - 0s 50ms/step\n",
      "The predicted rating for user 2785 and movie 3185 is 2.9553656578063965\n"
     ]
    }
   ],
   "source": [
    "import numpy as np\n",
    "\n",
    "# For a single prediction\n",
    "user_id_to_predict = np.array([2785]) \n",
    "movie_id_to_predict = np.array([3185]) \n",
    "\n",
    "# Make the prediction\n",
    "predicted_rating = model.predict([user_id_to_predict, movie_id_to_predict])\n",
    "\n",
    "print(f\"The predicted rating for user {user_id_to_predict[0]} and movie {movie_id_to_predict[0]} is {predicted_rating[0][0]}\")\n",
    "\n"
   ]
  },
  {
   "cell_type": "code",
   "execution_count": 42,
   "metadata": {},
   "outputs": [
    {
     "data": {
      "text/html": [
       "<div>\n",
       "<style scoped>\n",
       "    .dataframe tbody tr th:only-of-type {\n",
       "        vertical-align: middle;\n",
       "    }\n",
       "\n",
       "    .dataframe tbody tr th {\n",
       "        vertical-align: top;\n",
       "    }\n",
       "\n",
       "    .dataframe thead th {\n",
       "        text-align: right;\n",
       "    }\n",
       "</style>\n",
       "<table border=\"1\" class=\"dataframe\">\n",
       "  <thead>\n",
       "    <tr style=\"text-align: right;\">\n",
       "      <th></th>\n",
       "      <th>UserID</th>\n",
       "      <th>MovieID</th>\n",
       "      <th>Rating</th>\n",
       "      <th>Timestamp</th>\n",
       "      <th>MovieTitle</th>\n",
       "      <th>MovieGenre</th>\n",
       "    </tr>\n",
       "  </thead>\n",
       "  <tbody>\n",
       "    <tr>\n",
       "      <th>23642</th>\n",
       "      <td>932</td>\n",
       "      <td>1270</td>\n",
       "      <td>2</td>\n",
       "      <td>975186059</td>\n",
       "      <td>Back to the Future (1985)</td>\n",
       "      <td>Comedy|Sci-Fi</td>\n",
       "    </tr>\n",
       "  </tbody>\n",
       "</table>\n",
       "</div>"
      ],
      "text/plain": [
       "       UserID  MovieID  Rating  Timestamp                 MovieTitle  \\\n",
       "23642     932     1270       2  975186059  Back to the Future (1985)   \n",
       "\n",
       "          MovieGenre  \n",
       "23642  Comedy|Sci-Fi  "
      ]
     },
     "execution_count": 42,
     "metadata": {},
     "output_type": "execute_result"
    }
   ],
   "source": [
    "df_train.sample()"
   ]
  },
  {
   "cell_type": "code",
   "execution_count": 43,
   "metadata": {},
   "outputs": [
    {
     "name": "stdout",
     "output_type": "stream",
     "text": [
      "1/1 [==============================] - 0s 26ms/step\n",
      "The predicted rating for user 932 and movie 1270 is 2.9649417400360107\n"
     ]
    }
   ],
   "source": [
    "import numpy as np\n",
    "\n",
    "# For a single prediction\n",
    "user_id_to_predict = np.array([932])  \n",
    "movie_id_to_predict = np.array([1270]) \n",
    "\n",
    "# Make the prediction\n",
    "predicted_rating = model.predict([user_id_to_predict, movie_id_to_predict])\n",
    "\n",
    "print(f\"The predicted rating for user {user_id_to_predict[0]} and movie {movie_id_to_predict[0]} is {predicted_rating[0][0]}\")\n",
    "\n"
   ]
  },
  {
   "cell_type": "markdown",
   "metadata": {},
   "source": [
    "### Task 3.2"
   ]
  },
  {
   "cell_type": "markdown",
   "metadata": {},
   "source": [
    "### MovieAvg"
   ]
  },
  {
   "cell_type": "code",
   "execution_count": 48,
   "metadata": {},
   "outputs": [
    {
     "name": "stdout",
     "output_type": "stream",
     "text": [
      "[[0. 0. 0. ... 0. 0. 5.]\n",
      " [0. 0. 0. ... 0. 0. 4.]\n",
      " [0. 0. 4. ... 0. 0. 4.]\n",
      " ...\n",
      " [0. 0. 0. ... 0. 0. 0.]\n",
      " [0. 0. 0. ... 0. 0. 0.]\n",
      " [3. 3. 4. ... 0. 0. 5.]]\n"
     ]
    }
   ],
   "source": [
    "# Making the ratinng matrix {user-item}\n",
    "ratings = np.zeros((n_users, n_movies))\n",
    "for row in df.itertuples():\n",
    "    ratings[row[1]-1, row[2]-1] = row[3]\n",
    "print(ratings)"
   ]
  },
  {
   "cell_type": "code",
   "execution_count": 51,
   "metadata": {},
   "outputs": [
    {
     "name": "stdout",
     "output_type": "stream",
     "text": [
      "[[0. 0. 0. ... 0. 0. 1.]\n",
      " [0. 0. 0. ... 0. 0. 1.]\n",
      " [0. 0. 1. ... 0. 0. 1.]\n",
      " ...\n",
      " [0. 0. 0. ... 0. 0. 0.]\n",
      " [0. 0. 0. ... 0. 0. 0.]\n",
      " [1. 1. 1. ... 0. 0. 1.]]\n"
     ]
    }
   ],
   "source": [
    "# Making the rating number matrix from users and movies \n",
    "ratingsNum = np.zeros((n_users, n_movies))\n",
    "for row in df.itertuples():\n",
    "    ratingsNum[row[1]-1, row[2]-1] = 1\n",
    "print(ratingsNum)\n"
   ]
  },
  {
   "cell_type": "code",
   "execution_count": 54,
   "metadata": {},
   "outputs": [
    {
     "name": "stdout",
     "output_type": "stream",
     "text": [
      "[3.4647619  4.15408805 3.86387833 ... 2.91176471 3.1942446  4.39072464]\n",
      "[ 525.  636. 1315. ...  102.  139. 1725.]\n"
     ]
    }
   ],
   "source": [
    "# Calculating the movie average \n",
    "itemRateNum = ratingsNum.sum(axis=0)\n",
    "itemRateSum = ratings.sum(axis=0)\n",
    "itemRateAvg = itemRateSum/itemRateNum\n",
    "print(itemRateAvg)\n"
   ]
  },
  {
   "cell_type": "code",
   "execution_count": 66,
   "metadata": {},
   "outputs": [
    {
     "name": "stdout",
     "output_type": "stream",
     "text": [
      "\n",
      "Recommendations for User 1902\n",
      "movie ID\t movie title\n",
      "27                                     Persuasion (1995)\n",
      "496                                Mrs. Doubtfire (1993)\n",
      "1309    Blood For Dracula (Andy Warhol's Dracula) (1974)\n",
      "123                        Flirting With Disaster (1996)\n",
      "1823                            Perfect Murder, A (1998)\n",
      "1171                            Strictly Ballroom (1992)\n",
      "20                                     Get Shorty (1995)\n",
      "45                  How to Make an American Quilt (1995)\n",
      "1129                                   Snowriders (1996)\n",
      "68                                         Friday (1995)\n",
      "312                               Specialist, The (1994)\n",
      "2005     Night Porter, The (Il Portiere di notte) (1974)\n",
      "617                            My Favorite Season (1993)\n",
      "1650                         Big Bang Theory, The (1994)\n",
      "775                                       Kingpin (1996)\n",
      "1344                                     Ridicule (1996)\n",
      "500                                     No Escape (1994)\n",
      "1721                                       Sphere (1998)\n",
      "1720                          Wedding Singer, The (1998)\n",
      "1363                       Substance of Fire, The (1996)\n",
      "199                                  Three Wishes (1995)\n",
      "1817                            I Got the Hook Up (1998)\n",
      "796                              American Buffalo (1996)\n",
      "719                             Cold Comfort Farm (1995)\n",
      "889                                    Funny Face (1957)\n",
      "1929                     Exorcist II: The Heretic (1977)\n",
      "1310                             April Fool's Day (1986)\n",
      "1824                               Beyond Silence (1996)\n",
      "676         Eye of Vichy, The (Oeil de Vichy, L') (1993)\n",
      "1091                                        Loser (1991)\n",
      "Name: MovieTitle, dtype: object\n",
      "\n",
      "Recommendations for User 3289\n",
      "movie ID\t movie title\n",
      "1002       Homeward Bound: The Incredible Journey (1993)\n",
      "162                         Devil in a Blue Dress (1995)\n",
      "625                                  Carried Away (1996)\n",
      "27                                     Persuasion (1995)\n",
      "246                              Immortal Beloved (1994)\n",
      "22                                      Assassins (1995)\n",
      "496                                Mrs. Doubtfire (1993)\n",
      "1309    Blood For Dracula (Andy Warhol's Dracula) (1974)\n",
      "123                        Flirting With Disaster (1996)\n",
      "586                            Dances with Wolves (1990)\n",
      "1823                            Perfect Murder, A (1998)\n",
      "1171                            Strictly Ballroom (1992)\n",
      "568                               Foreign Student (1994)\n",
      "20                                     Get Shorty (1995)\n",
      "45                  How to Make an American Quilt (1995)\n",
      "1129                                   Snowriders (1996)\n",
      "388           Secret Adventures of Tom Thumb, The (1993)\n",
      "68                                         Friday (1995)\n",
      "671              Some Folks Call It a Sling Blade (1993)\n",
      "312                               Specialist, The (1994)\n",
      "2005     Night Porter, The (Il Portiere di notte) (1974)\n",
      "617                            My Favorite Season (1993)\n",
      "1650                         Big Bang Theory, The (1994)\n",
      "225                    Destiny Turns on the Radio (1995)\n",
      "297                                     Quiz Show (1994)\n",
      "775                                       Kingpin (1996)\n",
      "1344                                     Ridicule (1996)\n",
      "500                                     No Escape (1994)\n",
      "401                  Highlander III: The Sorcerer (1994)\n",
      "1721                                       Sphere (1998)\n",
      "Name: MovieTitle, dtype: object\n",
      "\n",
      "Recommendations for User 3806\n",
      "movie ID\t movie title\n",
      "1002       Homeward Bound: The Incredible Journey (1993)\n",
      "162                         Devil in a Blue Dress (1995)\n",
      "625                                  Carried Away (1996)\n",
      "27                                     Persuasion (1995)\n",
      "246                              Immortal Beloved (1994)\n",
      "22                                      Assassins (1995)\n",
      "496                                Mrs. Doubtfire (1993)\n",
      "1309    Blood For Dracula (Andy Warhol's Dracula) (1974)\n",
      "123                        Flirting With Disaster (1996)\n",
      "586                            Dances with Wolves (1990)\n",
      "1823                            Perfect Murder, A (1998)\n",
      "42                                    Restoration (1995)\n",
      "1171                            Strictly Ballroom (1992)\n",
      "568                               Foreign Student (1994)\n",
      "20                                     Get Shorty (1995)\n",
      "45                  How to Make an American Quilt (1995)\n",
      "1129                                   Snowriders (1996)\n",
      "388           Secret Adventures of Tom Thumb, The (1993)\n",
      "36                         Across the Sea of Time (1995)\n",
      "68                                         Friday (1995)\n",
      "671              Some Folks Call It a Sling Blade (1993)\n",
      "312                               Specialist, The (1994)\n",
      "2005     Night Porter, The (Il Portiere di notte) (1974)\n",
      "617                            My Favorite Season (1993)\n",
      "1650                         Big Bang Theory, The (1994)\n",
      "225                    Destiny Turns on the Radio (1995)\n",
      "775                                       Kingpin (1996)\n",
      "1344                                     Ridicule (1996)\n",
      "500                                     No Escape (1994)\n",
      "401                  Highlander III: The Sorcerer (1994)\n",
      "Name: MovieTitle, dtype: object\n",
      "\n",
      "Recommendations for User 2025\n",
      "movie ID\t movie title\n",
      "1002       Homeward Bound: The Incredible Journey (1993)\n",
      "162                         Devil in a Blue Dress (1995)\n",
      "625                                  Carried Away (1996)\n",
      "246                              Immortal Beloved (1994)\n",
      "1309    Blood For Dracula (Andy Warhol's Dracula) (1974)\n",
      "123                        Flirting With Disaster (1996)\n",
      "1823                            Perfect Murder, A (1998)\n",
      "1171                            Strictly Ballroom (1992)\n",
      "568                               Foreign Student (1994)\n",
      "1129                                   Snowriders (1996)\n",
      "388           Secret Adventures of Tom Thumb, The (1993)\n",
      "36                         Across the Sea of Time (1995)\n",
      "68                                         Friday (1995)\n",
      "671              Some Folks Call It a Sling Blade (1993)\n",
      "312                               Specialist, The (1994)\n",
      "2005     Night Porter, The (Il Portiere di notte) (1974)\n",
      "1650                         Big Bang Theory, The (1994)\n",
      "225                    Destiny Turns on the Radio (1995)\n",
      "297                                     Quiz Show (1994)\n",
      "775                                       Kingpin (1996)\n",
      "1344                                     Ridicule (1996)\n",
      "500                                     No Escape (1994)\n",
      "401                  Highlander III: The Sorcerer (1994)\n",
      "1721                                       Sphere (1998)\n",
      "1720                          Wedding Singer, The (1998)\n",
      "517                             Romeo Is Bleeding (1993)\n",
      "1363                       Substance of Fire, The (1996)\n",
      "1131                           When We Were Kings (1996)\n",
      "1817                            I Got the Hook Up (1998)\n",
      "1483                                    Breakdown (1997)\n",
      "Name: MovieTitle, dtype: object\n",
      "\n",
      "Recommendations for User 3405\n",
      "movie ID\t movie title\n",
      "1002       Homeward Bound: The Incredible Journey (1993)\n",
      "27                                     Persuasion (1995)\n",
      "246                              Immortal Beloved (1994)\n",
      "496                                Mrs. Doubtfire (1993)\n",
      "1309    Blood For Dracula (Andy Warhol's Dracula) (1974)\n",
      "123                        Flirting With Disaster (1996)\n",
      "586                            Dances with Wolves (1990)\n",
      "1823                            Perfect Murder, A (1998)\n",
      "42                                    Restoration (1995)\n",
      "1171                            Strictly Ballroom (1992)\n",
      "568                               Foreign Student (1994)\n",
      "20                                     Get Shorty (1995)\n",
      "45                  How to Make an American Quilt (1995)\n",
      "1129                                   Snowriders (1996)\n",
      "388           Secret Adventures of Tom Thumb, The (1993)\n",
      "68                                         Friday (1995)\n",
      "671              Some Folks Call It a Sling Blade (1993)\n",
      "312                               Specialist, The (1994)\n",
      "2005     Night Porter, The (Il Portiere di notte) (1974)\n",
      "617                            My Favorite Season (1993)\n",
      "1650                         Big Bang Theory, The (1994)\n",
      "225                    Destiny Turns on the Radio (1995)\n",
      "297                                     Quiz Show (1994)\n",
      "775                                       Kingpin (1996)\n",
      "1344                                     Ridicule (1996)\n",
      "500                                     No Escape (1994)\n",
      "401                  Highlander III: The Sorcerer (1994)\n",
      "1721                                       Sphere (1998)\n",
      "1720                          Wedding Singer, The (1998)\n",
      "517                             Romeo Is Bleeding (1993)\n",
      "Name: MovieTitle, dtype: object\n"
     ]
    }
   ],
   "source": [
    "import random\n",
    "top_n = 30 # setting the movies to be recommended to be 30 \n",
    "\n",
    "\n",
    "def evaluate_AP_NDCG(recommended, actual):\n",
    "    # Computing Average Precision (AP) and Normalized Discounted Cumulative Gain (NDCG)\n",
    "    AP = 0\n",
    "    NDCG = 0\n",
    "    num_hits = 0\n",
    "    for i, rec in enumerate(recommended):\n",
    "        if rec in actual:\n",
    "            num_hits += 1\n",
    "            AP += num_hits / (i + 1)\n",
    "    AP /= len(actual)\n",
    "    \n",
    "    DCG = sum([(rec in actual) / np.log2(i + 2) for i, rec in enumerate(recommended)])\n",
    "    IDCG = sum([1 / np.log2(i + 2) for i in range(len(actual))])\n",
    "    NDCG = DCG / IDCG\n",
    "    \n",
    "    return AP, NDCG\n",
    "\n",
    "# Identifying users who have rated more than 100 movies\n",
    "users_to_consider = np.where(np.sum(ratings > 0, axis=1) > 100)[0]\n",
    "chosen_users = random.sample(list(users_to_consider), 5)\n",
    "\n",
    "\n",
    "\n",
    "for user in chosen_users:\n",
    "    mask_user = ratings[user, :] > 0  # Movies rated by the current 'user'\n",
    "    \n",
    "    itemRateAvgCurrent = itemRateAvg.copy()\n",
    "    itemRateAvgCurrent[mask_user] = 0  # Set to zero the ratings of movies already rated by 'user'\n",
    "    \n",
    "    itemSortInd = itemRateAvgCurrent.argsort()\n",
    "    print(\"\")\n",
    "    print(f'Recommendations for User {user}')\n",
    "    print('movie ID' + '\\t movie title')\n",
    "    print(final_df['MovieTitle'][itemSortInd[range(len(itemSortInd)-1, len(itemSortInd)-top_n-1, -1)]])\n"
   ]
  }
 ],
 "metadata": {
  "colab": {
   "collapsed_sections": [],
   "name": "assignment1_TEMPLATE.ipynb",
   "provenance": [],
   "toc_visible": true
  },
  "kernelspec": {
   "display_name": "Python 3 (ipykernel)",
   "language": "python",
   "name": "python3"
  },
  "language_info": {
   "codemirror_mode": {
    "name": "ipython",
    "version": 3
   },
   "file_extension": ".py",
   "mimetype": "text/x-python",
   "name": "python",
   "nbconvert_exporter": "python",
   "pygments_lexer": "ipython3",
   "version": "3.10.12"
  }
 },
 "nbformat": 4,
 "nbformat_minor": 1
}
